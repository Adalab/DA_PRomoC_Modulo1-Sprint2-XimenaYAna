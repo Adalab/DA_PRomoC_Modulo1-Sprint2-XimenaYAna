{
 "cells": [
  {
   "cell_type": "markdown",
   "metadata": {},
   "source": [
    "1. Vamos a crear una \"Calculadora de puntos\". Tenéis que escribir una calculadora que reciba cadenas de caracteres como entrada. Los puntos representarán el número de la ecuación. Habrá puntos en un lado, un operador, y puntos de nuevo después del oparador. Los puntos y el operador estarán separados por un espacio.\n",
    "Aquí os dejamos los operadores válidos:\n",
    "\n",
    "Suma\n",
    "\n",
    "Resta\n",
    "\n",
    "Multiplicación\n",
    "\n",
    "División entera\n",
    "\n",
    "Vuestro trabajo\n",
    "\n",
    "Tendréis que devolver un string que contenga puntos, tantos como devuelva la ecuación. Si el resultado es 0, devuelve la cadena vacía. Cuando se trata de una resta, el primer número siempre será mayor o igual que el segundo.\n",
    "\n",
    "Probad la función con los siguientes casos: \n",
    "\n",
    "\"..... + ...............\" => \"....................\"\n",
    "\n",
    "\"..... - ...\" => \"..\"\n",
    "\n",
    "\"..... * ...\" => \"...............\"\n",
    "\n",
    "\"..... // ..\" => \"..\"\n",
    "\n",
    "\". // ..\" => \"\"\n",
    "\n",
    "\".. - ..\" => \"\"\n"
   ]
  },
  {
   "cell_type": "code",
   "execution_count": 12,
   "metadata": {},
   "outputs": [],
   "source": [
    "def calcular_puntos (string1, string2, operacion=\"suma\"):\n",
    "    puntos1 = 0\n",
    "    puntos2=0\n",
    "    puntos_final=[]\n",
    " \n",
    "    for i in string1:\n",
    "        puntos1+=1\n",
    "    for x in string2:\n",
    "        puntos2+=1\n",
    "    if operacion == \"suma\":\n",
    "        print (puntos1 + puntos2)\n",
    "        total = puntos1 + puntos2\n",
    "        for punto in str(total):\n",
    "            puntos_final.append(\".\")\n",
    "        return puntos_final\n",
    "    elif operacion == \"resta\":\n",
    "        return puntos1 - puntos2\n",
    "    elif operacion == \"multiplicacion\":\n",
    "        return puntos1 * puntos2\n",
    "    else:\n",
    "        return puntos1 // puntos2"
   ]
  },
  {
   "cell_type": "code",
   "execution_count": 15,
   "metadata": {},
   "outputs": [
    {
     "data": {
      "text/plain": [
       "3"
      ]
     },
     "execution_count": 15,
     "metadata": {},
     "output_type": "execute_result"
    }
   ],
   "source": [
    "calcular_puntos(\"......\",\"..\",operacion=\"division\")"
   ]
  },
  {
   "cell_type": "code",
   "execution_count": null,
   "metadata": {},
   "outputs": [],
   "source": [
    "#ejercicio 1\n",
    "# .count\n",
    "# if si es operacion suma, resta, multiplicaion, dision entera"
   ]
  },
  {
   "cell_type": "code",
   "execution_count": null,
   "metadata": {},
   "outputs": [],
   "source": [
    "def calcular_puntos (string1):\n",
    "     string1.split[]\n",
    "     \n",
    " \n",
    "    for i in string1:\n",
    "        puntos1+=1\n",
    "    for x in string2:\n",
    "        puntos2+=1\n",
    "    if operacion == \"suma\":\n",
    "        print (puntos1 + puntos2)\n",
    "        total = puntos1 + puntos2\n",
    "        for punto in str(total):\n",
    "            puntos_final.append(\".\")\n",
    "        return puntos_final\n",
    "    elif operacion == \"resta\":\n",
    "        return puntos1 - puntos2\n",
    "    elif operacion == \"multiplicacion\":\n",
    "        return puntos1 * puntos2\n",
    "    else:\n",
    "        return puntos1 // puntos2"
   ]
  },
  {
   "cell_type": "code",
   "execution_count": null,
   "metadata": {},
   "outputs": [],
   "source": [
    "# Ejercicio 2. 2023. Los numeros del año tienen que ser diferentes. \n",
    "# Con set para que no se repitan. Esperar a que set del año tenga 4"
   ]
  },
  {
   "cell_type": "code",
   "execution_count": null,
   "metadata": {},
   "outputs": [],
   "source": [
    "\n"
   ]
  }
 ],
 "metadata": {
  "kernelspec": {
   "display_name": "Python 3.9.13 ('base')",
   "language": "python",
   "name": "python3"
  },
  "language_info": {
   "codemirror_mode": {
    "name": "ipython",
    "version": 3
   },
   "file_extension": ".py",
   "mimetype": "text/x-python",
   "name": "python",
   "nbconvert_exporter": "python",
   "pygments_lexer": "ipython3",
   "version": "3.9.13"
  },
  "orig_nbformat": 4,
  "vscode": {
   "interpreter": {
    "hash": "f2104d434ce3092b7c07d5af98c90652611c7ad655b2a72b59e9e675e449bc7b"
   }
  }
 },
 "nbformat": 4,
 "nbformat_minor": 2
}
