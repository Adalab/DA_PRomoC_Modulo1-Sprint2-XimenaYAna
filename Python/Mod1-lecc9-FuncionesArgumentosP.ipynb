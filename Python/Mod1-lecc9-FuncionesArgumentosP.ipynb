{
 "cells": [
  {
   "cell_type": "markdown",
   "metadata": {},
   "source": [
    "Ejercicios de pair programming del 17 de noviembre. Argumentos en funciones"
   ]
  },
  {
   "cell_type": "markdown",
   "metadata": {},
   "source": [
    "1. Vamos a crear una \"Calculadora de puntos\". Tenéis que escribir una calculadora que reciba cadenas de caracteres como entrada. Los puntos representarán el número de la ecuación. Habrá puntos en un lado, un operador, y puntos de nuevo después del oparador. Los puntos y el operador estarán separados por un espacio.\n",
    "Aquí os dejamos los operadores válidos:\n",
    "\n",
    "Suma\n",
    "\n",
    "Resta\n",
    "\n",
    "Multiplicación\n",
    "\n",
    "División entera\n",
    "\n",
    "Vuestro trabajo\n",
    "\n",
    "Tendréis que devolver un string que contenga puntos, tantos como devuelva la ecuación. Si el resultado es 0, devuelve la cadena vacía. Cuando se trata de una resta, el primer número siempre será mayor o igual que el segundo.\n",
    "\n",
    "\n"
   ]
  },
  {
   "cell_type": "code",
   "execution_count": 1,
   "metadata": {},
   "outputs": [],
   "source": [
    "def calculadoradepuntos (string_texto1):\n",
    "    resultado = []\n",
    "    texto_list = string_texto1.split()\n",
    "    if \"+\" in texto_list:\n",
    "        suma = len(texto_list[0])+len(texto_list[2])\n",
    "        if suma <= 0:\n",
    "            return \"\"\n",
    "        else:\n",
    "            while len(resultado) != suma:\n",
    "                resultado.extend(\".\")\n",
    "                resultado_str = \"\".join(resultado)\n",
    "            return resultado_str\n",
    "    elif \"-\" in texto_list:\n",
    "        resta = len(texto_list[0])-len(texto_list[2])\n",
    "        if resta <= 0:\n",
    "            return \"\"\n",
    "        else:\n",
    "            while len(resultado) != resta:\n",
    "                resultado.extend(\".\")\n",
    "                resultado_str = \"\".join(resultado)\n",
    "            return resultado_str\n",
    "    elif \"*\" in texto_list:\n",
    "        multiplicacion = len(texto_list[0])*len(texto_list[2])\n",
    "        if multiplicacion <= 0:\n",
    "            return \"\"\n",
    "        else:\n",
    "            while len(resultado) != multiplicacion:\n",
    "                resultado.extend(\".\")\n",
    "                resultado_str = \"\".join(resultado)\n",
    "        return resultado_str\n",
    "    if \"//\" in texto_list:\n",
    "        div_entera = len(texto_list[0])//len(texto_list[2])\n",
    "        if div_entera <= 0:\n",
    "            return \"\"\n",
    "        else:\n",
    "            while len(resultado) != div_entera:\n",
    "                resultado.extend(\".\")\n",
    "                resultado_str = \"\".join(resultado)\n",
    "        return resultado_str"
   ]
  },
  {
   "cell_type": "code",
   "execution_count": 2,
   "metadata": {},
   "outputs": [],
   "source": [
    "#Copiamos los ejemplos para hacer las comprobaciones\n",
    "\n",
    "caso1= \"..... + ...............\"\n",
    "caso2=\"..... - ...\"\n",
    "caso3= \"..... * ...\"\n",
    "caso4= \"..... // ..\"\n",
    "caso5= \". // ..\"\n",
    "caso6= \".. - ..\""
   ]
  },
  {
   "cell_type": "code",
   "execution_count": 4,
   "metadata": {},
   "outputs": [
    {
     "data": {
      "text/plain": [
       "'..'"
      ]
     },
     "execution_count": 4,
     "metadata": {},
     "output_type": "execute_result"
    }
   ],
   "source": [
    "calculadoradepuntos(caso2)"
   ]
  },
  {
   "cell_type": "markdown",
   "metadata": {},
   "source": [
    "2- Te despides de tu mejor amigo, \"Nos vemos el próximo año\".\n",
    "Vuestro trabajo: Dado un año, encuentra el próximo cumpleaños o el año más cercano en el que verás a tu mejor amigo.\n",
    "Condiciones\n",
    "Año siempre positivo.\n",
    "El siguiente año que le felicites a tu mejor amigo no puede tener ningún dígito repetido.\n",
    "Probad con 1001(1023), 1123(1203), 2001(2013)"
   ]
  },
  {
   "cell_type": "code",
   "execution_count": 5,
   "metadata": {},
   "outputs": [],
   "source": [
    "#Creamos una funcion que nos vaya sumando uno al año que le damos,\n",
    "#mientras la longitud sel set de felicidades sea menos de 4 le \n",
    "#seguiremos sumando uno hasta que lleguemos a un set de 4 de un año que no\n",
    "#tenga ningun digito repetido\n",
    "\n",
    "def felicitar_cumple(anyo):\n",
    "    felicidades = anyo +1\n",
    "    while len(set(str(felicidades))) != 4:\n",
    "        felicidades +=1\n",
    "    return felicidades "
   ]
  },
  {
   "cell_type": "code",
   "execution_count": 6,
   "metadata": {},
   "outputs": [
    {
     "data": {
      "text/plain": [
       "1203"
      ]
     },
     "execution_count": 6,
     "metadata": {},
     "output_type": "execute_result"
    }
   ],
   "source": [
    "felicitar_cumple(1123)"
   ]
  },
  {
   "cell_type": "markdown",
   "metadata": {},
   "source": [
    "3- Tenéis que crear un función que chequee la vida de un evaporador que contiene un gas. Conocemos el contenido del evaporador (contenido en ml), el porcentaje de gas que se pierde cada día y el umbral en porcentaje a partir del cual el evaporador deja de ser útil. Todos los números serán estrictamente positivos.\n",
    "\n",
    "Probad con los siguientes casos: \n",
    "\n",
    "10, 10, 5 => 29\n",
    "\n",
    "10, 10, 10 = > 22"
   ]
  },
  {
   "cell_type": "code",
   "execution_count": 7,
   "metadata": {},
   "outputs": [],
   "source": [
    "#como no sabemos por cuanto tiempo tenemos que iterar usaremos while\n",
    "\n",
    "def chequear_evaporador(int_capacidad, int_perdida, int_umbral):\n",
    "    dias = 0 #creamos un contador a cero para ir sumando dias\n",
    "    #calculamos los ml a partir de los cuales el evaporador ya no funciona\n",
    "    int_umbral= int_capacidad * int_umbral/100\n",
    "    while int_capacidad >= int_umbral:\n",
    "        int_capacidad -= int_capacidad * int_perdida/100\n",
    "        dias +=1\n",
    "    print(f\"Mi evaporador funcionara hasta dentro de {dias} dias\")\n",
    "    return dias\n"
   ]
  },
  {
   "cell_type": "code",
   "execution_count": 8,
   "metadata": {},
   "outputs": [
    {
     "name": "stdout",
     "output_type": "stream",
     "text": [
      "Mi evaporador funcionara hasta dentro de 29 dias\n"
     ]
    },
    {
     "data": {
      "text/plain": [
       "29"
      ]
     },
     "execution_count": 8,
     "metadata": {},
     "output_type": "execute_result"
    }
   ],
   "source": [
    "chequear_evaporador(10,10,5)"
   ]
  },
  {
   "cell_type": "markdown",
   "metadata": {},
   "source": [
    "4-Definid una función que tome como argumento un entero y devuelva True o False dependiendo de si el número es primo o no.\n",
    "Según la Wikipedia, un número primo es un número natural mayor que 1 que no tiene divisores positivos más que 1 y él mismo."
   ]
  },
  {
   "cell_type": "code",
   "execution_count": 9,
   "metadata": {},
   "outputs": [],
   "source": [
    "#Un numero primo solo puede ser divisible por si mismo y por 1, por lo\n",
    "#que usamos un rango entre 2 y el mismo numero primo y si encontramos\n",
    "#algun numero en ese rango por lo que el resto de su division sea cero\n",
    "#ya no es primo\n",
    "\n",
    "def calculadoradeprimos(primo):\n",
    "    for num in range(2,primo):\n",
    "        if (primo % num) == 0:\n",
    "            return \"False\"\n",
    "    return \"True\"\n"
   ]
  },
  {
   "cell_type": "code",
   "execution_count": 11,
   "metadata": {},
   "outputs": [
    {
     "data": {
      "text/plain": [
       "'True'"
      ]
     },
     "execution_count": 11,
     "metadata": {},
     "output_type": "execute_result"
    }
   ],
   "source": [
    "calculadoradeprimos(5)"
   ]
  },
  {
   "cell_type": "markdown",
   "metadata": {},
   "source": [
    "5- Probablemente conozcais el sistema de \"me gusta\" de Facebook y otras páginas. La gente puede dar \"me gusta\" a las publicaciones del blog, a las imágenes o a otros elementos. Queremos crear el texto que debe mostrarse junto a dicho elemento.\n",
    "Cread una función que toma una lista que contiene los nombres de las personas a las que les gusta un artículo. Debe devolver el texto que se muestra en los ejemplos:\n",
    "Probad los siguientes ejemplos: \n",
    "\n",
    "[]                              -->  \"A nadie le gusta esto\"\n",
    "\n",
    "[\"Paola\"]                       -->  \"A Peter le gusta esto\"\n",
    "\n",
    "[\"Jacoba\", \"Alex\"]               -->  \"A Jacob y Alex les gusta esto\"\n",
    "\n",
    "[\"Maria\", \"Juana\", \"Lola\"]         -->  \"A Max, John y Mark les gusta esto\"\n",
    "\n",
    "[\"Alex\", \"Jacoba\", \"Lola\", \"Carmen\"]-->  \"A Alex, Jacob y 2 más les gusta esto\"\n",
    "\n",
    "[\"Alex\", \"Jacoba\", \"Lola\", \"Carmen\", \"Mariana\"]-->  \"A Alex, Jacoba y 3 más les gusta esto\""
   ]
  },
  {
   "cell_type": "code",
   "execution_count": 12,
   "metadata": {},
   "outputs": [],
   "source": [
    "#Cogemos como ejemplo la lista mas larga del ejemplo\n",
    "nombre = [\"Alex\", \"Jacoba\", \"Lola\", \"Carmen\", \"Mariana\"]"
   ]
  },
  {
   "cell_type": "code",
   "execution_count": 13,
   "metadata": {},
   "outputs": [],
   "source": [
    "#con la variable resto calculamos los nombres que no queremos que \n",
    "#aparezcan en el print\n",
    "resto = len(nombre[2:])\n"
   ]
  },
  {
   "cell_type": "code",
   "execution_count": 15,
   "metadata": {},
   "outputs": [],
   "source": [
    "def contador_megustas (list_nombres):\n",
    "    \n",
    "#dependiendo de la longitud de la lista de nombres nos \n",
    "#saldra un print u otro\n",
    "\n",
    "    if len(nombre) > 3:\n",
    "        print(f\"A {nombre[0]}, {nombre[1]} y {resto} les gusta esto\")\n",
    "    elif len(nombre) == 0 :\n",
    "        print(\"A nadie le gusta esto\")\n",
    "    elif len(nombre) == 1 :\n",
    "        print(f\"A {nombre[0]} le gusta esto\")\n",
    "    elif len(nombre) == 2 :\n",
    "        print(f\"A {nombre[0]} y {nombre[1]} les gusta esto\")\n",
    "    elif len(nombre) == 3 :\n",
    "        print(f\"A {nombre[0]}, {nombre[1]} y {nombre[2]} les gusta esto\")\n",
    "        "
   ]
  },
  {
   "cell_type": "code",
   "execution_count": 16,
   "metadata": {},
   "outputs": [
    {
     "name": "stdout",
     "output_type": "stream",
     "text": [
      "A Alex, Jacoba y 3 les gusta esto\n"
     ]
    }
   ],
   "source": [
    "#Comprobamos con la ultima lista del ejemplo\n",
    "contador_megustas(nombre)"
   ]
  }
 ],
 "metadata": {
  "kernelspec": {
   "display_name": "Python 3.9.7 ('base')",
   "language": "python",
   "name": "python3"
  },
  "language_info": {
   "codemirror_mode": {
    "name": "ipython",
    "version": 3
   },
   "file_extension": ".py",
   "mimetype": "text/x-python",
   "name": "python",
   "nbconvert_exporter": "python",
   "pygments_lexer": "ipython3",
   "version": "3.9.7"
  },
  "orig_nbformat": 4,
  "vscode": {
   "interpreter": {
    "hash": "3caf7024699363795119074055a58e45741f300ae36cbc0c7edc7c57844505fc"
   }
  }
 },
 "nbformat": 4,
 "nbformat_minor": 2
}
