{
 "cells": [
  {
   "cell_type": "markdown",
   "metadata": {},
   "source": [
    "En este ejercicio tendréis que crear una función que reciba el nombre del archivo xml y que devuelva lo siguiente:\n",
    "\n",
    "Qué tag y atributos tiene el archivo xml.\n",
    "\n",
    "La descripción de cada una de las películas que tenemos en ese archivo.\n",
    "\n",
    "Los años en que fueron estrenadas las películas.\n",
    "\n",
    "💡 Pistas 💡\n",
    "\n",
    "La función debe recibir un parámetro, el nombre del archivo xml.\n",
    "\n",
    "Tendréis que utlizar un bucle for para recorrer todo el archivo xml y extraer la información que os pedimos.\n",
    "\n",
    "Recordad el método .text para extraer el texto de un elemento.\n",
    "\n"
   ]
  },
  {
   "cell_type": "code",
   "execution_count": 74,
   "metadata": {},
   "outputs": [],
   "source": [
    "def leer_xml_peliculas (archivo):\n",
    "\n",
    "    import xml.etree.ElementTree as ET\n",
    "    fichero_xml = ET.parse(archivo) \n",
    "    raiz = fichero_xml.getroot()\n",
    "    root = fichero_xml.getroot()\n",
    "\n",
    "    salida = ''\n",
    "    for genre in root:\n",
    "        salida += (f\"{genre.tag} es hijo de nuestra raiz 'Collection' y tiene como atributos: {genre.attrib}'\\n\" )\n",
    "        for decade in genre:\n",
    "            salida +=(f\"{decade.tag} es hijo de {genre.tag} y tiene como atributos: {decade.attrib}'\\n\" )\n",
    "            for movie in decade:\n",
    "                salida += (f\"{movie.tag} es hijo de {decade.tag} y tiene como atributos: {movie.attrib} \\n\")\n",
    "                for moviechild in movie:\n",
    "                    salida += (f\"{moviechild.tag}  es hijo de {movie.tag} y tiene como atributos: {moviechild.attrib}\\n\")\n",
    "                    if moviechild.tag == 'description' :\n",
    "                        salida += (f\"La descripcion de la pelicula es:{moviechild.text}\\n\")\n",
    "                    elif moviechild.tag == 'year' :\n",
    "                        salida += (f\"El año de la pelicula es:{moviechild.text}\\n\")\n",
    "\n",
    "    return salida\n"
   ]
  },
  {
   "cell_type": "code",
   "execution_count": 75,
   "metadata": {},
   "outputs": [],
   "source": [
    "informacion = leer_xml_peliculas ('peliculas.xml')"
   ]
  },
  {
   "cell_type": "code",
   "execution_count": 76,
   "metadata": {},
   "outputs": [
    {
     "name": "stdout",
     "output_type": "stream",
     "text": [
      "genre es hijo de nuestra raiz 'Collection' y tiene como atributos: {'category': 'Action'}'\n",
      "decade es hijo de genre y tiene como atributos: {'years': '1980s'}'\n",
      "movie es hijo de decade y tiene como atributos: {'favorite': 'True', 'title': 'Indiana Jones: The raiders of the lost Ark'} \n",
      "format  es hijo de movie y tiene como atributos: {'multiple': 'No'}\n",
      "year  es hijo de movie y tiene como atributos: {}\n",
      "El año de la pelicula es:1981\n",
      "rating  es hijo de movie y tiene como atributos: {}\n",
      "description  es hijo de movie y tiene como atributos: {}\n",
      "La descripcion de la pelicula es:\n",
      "                'Archaeologist and adventurer Indiana Jones \n",
      "                is hired by the U.S. government to find the Ark of  the Covenant before the Nazis.'\n",
      "                \n",
      "movie es hijo de decade y tiene como atributos: {'favorite': 'True', 'title': 'THE KARATE KID'} \n",
      "format  es hijo de movie y tiene como atributos: {'multiple': 'Yes'}\n",
      "year  es hijo de movie y tiene como atributos: {}\n",
      "El año de la pelicula es:1984\n",
      "rating  es hijo de movie y tiene como atributos: {}\n",
      "description  es hijo de movie y tiene como atributos: {}\n",
      "La descripcion de la pelicula es:None provided.\n",
      "movie es hijo de decade y tiene como atributos: {'favorite': 'False', 'title': 'Back 2 the Future'} \n",
      "format  es hijo de movie y tiene como atributos: {'multiple': 'False'}\n",
      "year  es hijo de movie y tiene como atributos: {}\n",
      "El año de la pelicula es:1985\n",
      "rating  es hijo de movie y tiene como atributos: {}\n",
      "description  es hijo de movie y tiene como atributos: {}\n",
      "La descripcion de la pelicula es:Marty McFly\n",
      "decade es hijo de genre y tiene como atributos: {'years': '1990s'}'\n",
      "movie es hijo de decade y tiene como atributos: {'favorite': 'False', 'title': 'X-Men'} \n",
      "format  es hijo de movie y tiene como atributos: {'multiple': 'Yes'}\n",
      "year  es hijo de movie y tiene como atributos: {}\n",
      "El año de la pelicula es:2000\n",
      "rating  es hijo de movie y tiene como atributos: {}\n",
      "description  es hijo de movie y tiene como atributos: {}\n",
      "La descripcion de la pelicula es:Two mutants come to a private academy for their kind whose resident superhero team must oppose a terrorist organization with similar powers.\n",
      "movie es hijo de decade y tiene como atributos: {'favorite': 'True', 'title': 'Batman Returns'} \n",
      "format  es hijo de movie y tiene como atributos: {'multiple': 'No'}\n",
      "year  es hijo de movie y tiene como atributos: {}\n",
      "El año de la pelicula es:1992\n",
      "rating  es hijo de movie y tiene como atributos: {}\n",
      "description  es hijo de movie y tiene como atributos: {}\n",
      "La descripcion de la pelicula es:NA.\n",
      "movie es hijo de decade y tiene como atributos: {'favorite': 'False', 'title': 'Reservoir Dogs'} \n",
      "format  es hijo de movie y tiene como atributos: {'multiple': 'No'}\n",
      "year  es hijo de movie y tiene como atributos: {}\n",
      "El año de la pelicula es:1992\n",
      "rating  es hijo de movie y tiene como atributos: {}\n",
      "description  es hijo de movie y tiene como atributos: {}\n",
      "La descripcion de la pelicula es:WhAtEvER I Want!!!?!\n",
      "genre es hijo de nuestra raiz 'Collection' y tiene como atributos: {'category': 'Thriller'}'\n",
      "decade es hijo de genre y tiene como atributos: {'years': '1970s'}'\n",
      "movie es hijo de decade y tiene como atributos: {'favorite': 'False', 'title': 'ALIEN'} \n",
      "format  es hijo de movie y tiene como atributos: {'multiple': 'Yes'}\n",
      "year  es hijo de movie y tiene como atributos: {}\n",
      "El año de la pelicula es:1979\n",
      "rating  es hijo de movie y tiene como atributos: {}\n",
      "description  es hijo de movie y tiene como atributos: {}\n",
      "La descripcion de la pelicula es:\"\"\"\"\"\"\"\"\"\n",
      "decade es hijo de genre y tiene como atributos: {'years': '1980s'}'\n",
      "movie es hijo de decade y tiene como atributos: {'favorite': 'True', 'title': \"Ferris Bueller's Day Off\"} \n",
      "format  es hijo de movie y tiene como atributos: {'multiple': 'No'}\n",
      "year  es hijo de movie y tiene como atributos: {}\n",
      "El año de la pelicula es:1986\n",
      "rating  es hijo de movie y tiene como atributos: {}\n",
      "description  es hijo de movie y tiene como atributos: {}\n",
      "La descripcion de la pelicula es:Funny movie on funny guy \n",
      "movie es hijo de decade y tiene como atributos: {'favorite': 'FALSE', 'title': 'American Psycho'} \n",
      "format  es hijo de movie y tiene como atributos: {'multiple': 'No'}\n",
      "year  es hijo de movie y tiene como atributos: {}\n",
      "El año de la pelicula es:2000\n",
      "rating  es hijo de movie y tiene como atributos: {}\n",
      "description  es hijo de movie y tiene como atributos: {}\n",
      "La descripcion de la pelicula es:psychopathic Bateman\n",
      "\n"
     ]
    }
   ],
   "source": [
    "print(informacion)"
   ]
  }
 ],
 "metadata": {
  "kernelspec": {
   "display_name": "Python 3.9.7 ('base')",
   "language": "python",
   "name": "python3"
  },
  "language_info": {
   "codemirror_mode": {
    "name": "ipython",
    "version": 3
   },
   "file_extension": ".py",
   "mimetype": "text/x-python",
   "name": "python",
   "nbconvert_exporter": "python",
   "pygments_lexer": "ipython3",
   "version": "3.9.7"
  },
  "orig_nbformat": 4,
  "vscode": {
   "interpreter": {
    "hash": "3caf7024699363795119074055a58e45741f300ae36cbc0c7edc7c57844505fc"
   }
  }
 },
 "nbformat": 4,
 "nbformat_minor": 2
}
