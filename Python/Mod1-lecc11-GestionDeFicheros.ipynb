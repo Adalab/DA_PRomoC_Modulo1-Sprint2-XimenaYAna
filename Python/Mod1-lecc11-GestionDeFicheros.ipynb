{
 "cells": [
  {
   "cell_type": "markdown",
   "metadata": {},
   "source": [
    "## Gestión de Ficheros"
   ]
  },
  {
   "cell_type": "markdown",
   "metadata": {},
   "source": [
    "Creación de carpetas y movimientos entre ellas\n",
    "\n",
    "---------------------------------- PRIMERA FUNCIÓN -----------------------\n",
    "\n",
    "Esta función debe incluir el código que:\n",
    "\n",
    "Nos muestre en que carpeta estamos trabajando.\n",
    "\n",
    "Cree una carpeta que se llame \"aprendiendo-ficheros\". ⚠️ Tened en cuenta que si la carpeta ya existe no la podemos crear, nos devolverá un error. Incluye en la función un programa que evite que nos de un error si la carpeta ya existe.\n",
    "Cree otra carpeta que se llame \"datos\" dentro de la carpeta \"aprendiendo-ficheros\". En esta carpeta \"datos\" guardaremos el fichero \"saludo.txt\" que os habéis descargado.\n",
    "\n",
    "Cambiad el directorio de trabajo a la carpeta \"datos\". Antes de seguir chequead que estáis trabajando en la carpeta \"datos\".\n",
    "\n",
    "Cambiad el nombre de la carpeta creada en el punto 2 a \"primera-toma-contacto\""
   ]
  },
  {
   "cell_type": "code",
   "execution_count": 1,
   "metadata": {},
   "outputs": [],
   "source": [
    "# En qué carpeta estamos trabajando\n",
    "\n",
    "def identificar_carpeta (nom1,nom2,nom3):\n",
    "    import os\n",
    "    ubi_carpeta = os.getcwd()\n",
    "    print (ubi_carpeta)\n",
    "    if \"aprendiendo-ficheros\" not in ubi_carpeta:\n",
    "        os.mkdir(\"aprendiendo-ficheros\")\n",
    "        print (\"Esta carpeta ya está creada\")\n",
    "        os.mkdir(\"aprendiendo-ficheros/datos\")\n",
    "        ubi_datos = ubi_carpeta + \"/\"+ \"aprendiendo-ficheros/datos\"\n",
    "        os.mkdir (\"aprendiendo-ficheros/datos/saludo.txt\")\n",
    "        ubi_saludos = ubi_datos + \"/\" + \"saludo.txt\"\n",
    "        os.rename(\"aprendiendo-ficheros\",\"primera-toma-contacto\")\n",
    "        return os.listdir(ubi_carpeta)\n",
    "   \n",
    "    elif \"aprendiendo-ficheros\" in ubi_carpeta: \n",
    "        return (\"La carpeta ya existe\")\n",
    "        "
   ]
  },
  {
   "cell_type": "code",
   "execution_count": 2,
   "metadata": {},
   "outputs": [
    {
     "name": "stdout",
     "output_type": "stream",
     "text": [
      "/mnt/d/Ximena/Adalab/Módulo 1/DA_PRomoC_Modulo1-Sprint2-XimenaYAna/Python\n",
      "Esta carpeta ya está creada\n"
     ]
    },
    {
     "data": {
      "text/plain": [
       "['.DS_Store',\n",
       " 'Datos',\n",
       " 'email.txt',\n",
       " 'Mod1-lecc10-Clases.ipynb',\n",
       " 'Mod1-lecc11-GestionDeFicheros.ipynb',\n",
       " 'Mod1-lecc12-regex.ipynb',\n",
       " 'Mod1-lecc13-SQLpython.ipynb',\n",
       " 'Mod1-lecc8-FuncionesIntroT.ipynb',\n",
       " 'Mod1-lecc9-FuncionesArgumentosP.ipynb',\n",
       " 'peliculas.xml',\n",
       " 'primera-toma-contacto']"
      ]
     },
     "execution_count": 2,
     "metadata": {},
     "output_type": "execute_result"
    }
   ],
   "source": [
    "identificar_carpeta (\"aprendiendo-ficheros\",\"datos\", \"primera-toma-contacto\")"
   ]
  },
  {
   "cell_type": "code",
   "execution_count": 3,
   "metadata": {},
   "outputs": [],
   "source": [
    "from shutil import rmtree\n",
    "rmtree(\"primera-toma-contacto\")"
   ]
  },
  {
   "cell_type": "markdown",
   "metadata": {},
   "source": [
    "2. Segunda\n",
    "📌 Antes de empezar, recordad descargaros el fichero saludo.txt y guardarlo en el repo en el que estáis trabajando, dentro de una carpeta que se llame \"datos\".\n",
    "\n",
    "Lea el fichero que se llame \"saludo.txt y muestre su contenido completo.\n",
    "\n",
    "Muestra la línea 4 del fichero\n",
    "\n",
    "💡 Pistas para resolver este ejercicio 💡\n",
    "\n",
    "Antes de empezar, tendréis que saber cuál es vuestro directorio de trabajo.\n",
    "\n",
    "Tened en cuenta en que carpeta estáis. Si vuestro directorio de trabajo no es \"datos\" tendréis que cambiarlo o poner la ruta relativa a la carpeta \"datos\".\n",
    "\n",
    "Usar if... else para evitar que se nos pare el código.\n",
    "\n",
    "Para cambiar el fichero podréis usar el comando input para preguntar el usuario donde está el fichero y que se pueda usar la ruta relativa o absoluta."
   ]
  },
  {
   "cell_type": "code",
   "execution_count": 4,
   "metadata": {},
   "outputs": [],
   "source": [
    "def leer_archivo ():\n",
    "    import os\n",
    "    carpeta = os.getcwd()\n",
    "    archivo = carpeta+\"/datos/saludo.txt\"\n",
    "    if archivo == archivo:\n",
    "        f= open(archivo)\n",
    "        archivo_completo = f.readlines()\n",
    "        f.close()\n",
    "        print (archivo_completo)\n",
    "        if archivo == archivo:\n",
    "            x = open(archivo)\n",
    "            archivo_lineas = x.readlines()\n",
    "            x.close()\n",
    "            return archivo_lineas[4]\n",
    "    else:\n",
    "        return (\"No encuentro el archivo\")"
   ]
  },
  {
   "cell_type": "code",
   "execution_count": 5,
   "metadata": {},
   "outputs": [
    {
     "name": "stdout",
     "output_type": "stream",
     "text": [
      "['Hola Adalabers!!!\\n', '\\n', 'Estamos en la sesión de pair-programming para familiarizarnos con la gestión de carpetas y ficheros desde Python 🙂🌊\\n', '\\n', 'Esto esta siendo suuuper divertidooooo']\n"
     ]
    },
    {
     "data": {
      "text/plain": [
       "'Esto esta siendo suuuper divertidooooo'"
      ]
     },
     "execution_count": 5,
     "metadata": {},
     "output_type": "execute_result"
    }
   ],
   "source": [
    "leer_archivo ()"
   ]
  },
  {
   "cell_type": "markdown",
   "metadata": {},
   "source": [
    "# Lectura y escritura de ficheros\n",
    "\n",
    "La función debe recibir 4 parámetros:\n",
    "\n",
    "Nombre del fichero, incluyendo la extensión.\n",
    "\n",
    "Como queremos leer el fichero.\n",
    "\n",
    "El encoding del fichero.\n",
    "\n",
    "El contenido que queremos escribir en el fichero.\n",
    "\n",
    "Condiciones de la función:\n",
    "\n",
    "Si el fichero no existe, debe crearlo, insertar contenido y mostrar su contenido.\n",
    "\n",
    "Si el fichero existe pregunta al usuario si quiere sobreescribirlo. En caso de Si, sobreescribe el fichero, insertad contenido y leedlo. En caso de No, no hace nada.\n",
    "\n",
    "💡 Pistas 💡\n",
    "\n",
    "Para chequear si un fichero existe, podemos usar la función os.listdir() que devuelve una lista con los nombres de los ficheros que hay en un directorio.\n",
    "\n",
    "Para crear un fichero, podemos usar la función open() que recibe como parámetros el nombre del fichero, el modo de apertura y el encoding.\n",
    "\n",
    "Para chequear si el fichero existe debéis usar los for loops y el método in para comprobar si el nombre del fichero está en la lista de ficheros.\n",
    "\n",
    "Usar un input para preguntar al usuario si quiere sobreescribir el fichero.\n",
    "\n",
    "Para sobreescribir el fichero, podemos usar la función open() que recibe como parámetros el nombre del fichero, el modo de apertura y el encoding.\n",
    "\n",
    "Strings que cubren más que una línea tienen que ser iniciados y cerrados con tres comillas \"\"\"."
   ]
  }
 ],
 "metadata": {
  "kernelspec": {
   "display_name": "Python 3.9.13 ('base')",
   "language": "python",
   "name": "python3"
  },
  "language_info": {
   "codemirror_mode": {
    "name": "ipython",
    "version": 3
   },
   "file_extension": ".py",
   "mimetype": "text/x-python",
   "name": "python",
   "nbconvert_exporter": "python",
   "pygments_lexer": "ipython3",
   "version": "3.9.13"
  },
  "orig_nbformat": 4,
  "vscode": {
   "interpreter": {
    "hash": "f2104d434ce3092b7c07d5af98c90652611c7ad655b2a72b59e9e675e449bc7b"
   }
  }
 },
 "nbformat": 4,
 "nbformat_minor": 2
}
