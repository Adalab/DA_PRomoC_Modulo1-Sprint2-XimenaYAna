{
 "cells": [
  {
   "cell_type": "markdown",
   "metadata": {},
   "source": [
    "## Gestión de Ficheros"
   ]
  },
  {
   "cell_type": "markdown",
   "metadata": {},
   "source": [
    "## Creación de carpetas y movimientos entre ellas\n",
    "\n",
    "---------------------------------- PRIMERA FUNCIÓN -----------------------\n",
    "\n",
    "Esta función debe incluir el código que:\n",
    "\n",
    "Nos muestre en que carpeta estamos trabajando.\n",
    "\n",
    "Cree una carpeta que se llame \"aprendiendo-ficheros\". ⚠️ Tened en cuenta que si la carpeta ya existe no la podemos crear, nos devolverá un error. Incluye en la función un programa que evite que nos de un error si la carpeta ya existe.\n",
    "Cree otra carpeta que se llame \"datos\" dentro de la carpeta \"aprendiendo-ficheros\". En esta carpeta \"datos\" guardaremos el fichero \"saludo.txt\" que os habéis descargado.\n",
    "\n",
    "Cambiad el directorio de trabajo a la carpeta \"datos\". Antes de seguir chequead que estáis trabajando en la carpeta \"datos\".\n",
    "\n",
    "Cambiad el nombre de la carpeta creada en el punto 2 a \"primera-toma-contacto\""
   ]
  },
  {
   "cell_type": "code",
   "execution_count": 296,
   "metadata": {},
   "outputs": [],
   "source": [
    "import os"
   ]
  },
  {
   "cell_type": "code",
   "execution_count": 143,
   "metadata": {},
   "outputs": [],
   "source": [
    "nom1= \"aprendiendo-ficheros\"\n",
    "nom2 = \"datos\"\n",
    "nom3 = \"primera-toma-contacto\""
   ]
  },
  {
   "cell_type": "code",
   "execution_count": 154,
   "metadata": {},
   "outputs": [],
   "source": [
    "# Se debe proprocionar 3 string, el primero con el nombre de la carpeta que se desea crear.\n",
    "# El segundo string, corresponde al nombre de la carpeta que se creara dentro de la primera.\n",
    "# El tercer string, corresponde al nombre con el que se renombrará la primera carpeta\n",
    "\n",
    "def crear_carpeta (nombre1,nombre2,nombre3): \n",
    "\n",
    "    import os\n",
    "    ubicacion_carpeta = os.getcwd()\n",
    "    print(f\"Esta es tu ubicación actual: {ubicacion_carpeta}\")\n",
    "\n",
    "    if nombre1 in os.listdir():\n",
    "        print(f\"La carpeta {nombre1} ya existe.\")\n",
    "            \n",
    "    else: \n",
    "        os.mkdir(nombre1)\n",
    "        print(f\"Se ha creado la carpeta {nombre1}\")\n",
    "        os.chdir(nombre1)\n",
    "        \n",
    "        if nombre2 in os.listdir():\n",
    "            print(f\"Esta carpeta {nombre2} ya existe\")\n",
    "\n",
    "        else:\n",
    "            os.mkdir(nombre2)\n",
    "            print(f\"Se ha creado la carpeta {nombre2} en la carpeta {nombre1}\")\n",
    "            os.chdir(nombre2)\n",
    "            \n",
    "    # Regresamos a la carpeta principal       \n",
    "    os.chdir(\"../../\")\n",
    "\n",
    "    # Renombramos la carpeta\n",
    "    if nombre3 in os.listdir():\n",
    "        pass\n",
    "    else: \n",
    "        os.rename(nombre1,nombre3)\n",
    "        print(f\"Se ha renombrado la carpeta {nombre1}. Ahora se llama {nombre3}\")"
   ]
  },
  {
   "cell_type": "code",
   "execution_count": 155,
   "metadata": {},
   "outputs": [
    {
     "name": "stdout",
     "output_type": "stream",
     "text": [
      "Esta es tu ubicación actual: /mnt/d/Ximena/Adalab/Módulo 1/DA_PRomoC_Modulo1-Sprint2-XimenaYAna/Python\n",
      "Se ha creado la carpeta aprendiendo-ficheros\n",
      "Se ha creado la carpeta datos en la carpeta aprendiendo-ficheros\n",
      "Se ha renombrado la carpeta aprendiendo-ficheros. Ahora se llama primera-toma-contacto\n"
     ]
    }
   ],
   "source": [
    "crear_carpeta(nom1,nom2,nom3)"
   ]
  },
  {
   "cell_type": "markdown",
   "metadata": {},
   "source": [
    "---------------------------------- SEGUNDA FUNCIÓN -----------------------\n",
    "\n",
    "2. Segunda\n",
    "📌 Antes de empezar, recordad descargaros el fichero saludo.txt y guardarlo en el repo en el que estáis trabajando, dentro de una carpeta que se llame \"datos\".\n",
    "\n",
    "Lea el fichero que se llame \"saludo.txt y muestre su contenido completo.\n",
    "\n",
    "Muestra la línea 4 del fichero\n",
    "\n",
    "💡 Pistas para resolver este ejercicio 💡\n",
    "\n",
    "Antes de empezar, tendréis que saber cuál es vuestro directorio de trabajo.\n",
    "\n",
    "Tened en cuenta en que carpeta estáis. Si vuestro directorio de trabajo no es \"datos\" tendréis que cambiarlo o poner la ruta relativa a la carpeta \"datos\".\n",
    "\n",
    "Usar if... else para evitar que se nos pare el código.\n",
    "\n",
    "Para cambiar el fichero podréis usar el comando input para preguntar el usuario donde está el fichero y que se pueda usar la ruta relativa o absoluta."
   ]
  },
  {
   "cell_type": "code",
   "execution_count": 269,
   "metadata": {},
   "outputs": [],
   "source": [
    "import os"
   ]
  },
  {
   "cell_type": "code",
   "execution_count": 2,
   "metadata": {},
   "outputs": [],
   "source": [
    "def leer_saludo ():\n",
    "    carpeta_actual = os.getcwd()\n",
    "    print (f\"Esta es tu ubicación actaul {carpeta_actual}\")\n",
    "\n",
    "\n",
    "    if \"datos\" in carpeta_actual:\n",
    "        pass\n",
    "\n",
    "    else:\n",
    "        carpeta_datos = input (\"¿En qué carpeta está la carpeta datos?\")\n",
    "        os.chdir(carpeta_datos)\n",
    "        os.chdir(\"datos\")\n",
    "        print (\"Ya estamos en la carpeta datos\")\n",
    "        ubi_archivo = os.getcwd()\n",
    "        \n",
    "    with open (\"saludo.txt\") as f:\n",
    "        archivo_completo = f.readlines()\n",
    "        print (archivo_completo)\n",
    "        print (f\"Esta es la línea 4: {archivo_completo[4]}\")\n",
    "\n",
    "        f.close()\n"
   ]
  },
  {
   "cell_type": "code",
   "execution_count": 285,
   "metadata": {},
   "outputs": [
    {
     "name": "stdout",
     "output_type": "stream",
     "text": [
      "Esta es tu ubicación actaul /mnt/d/Ximena/Adalab/Módulo 1/DA_PRomoC_Modulo1-Sprint2-XimenaYAna/Python\n",
      "Ya estamos en la carpeta datos\n",
      "['Hola Adalabers!!!\\n', '\\n', 'Estamos en la sesión de pair-programming para familiarizarnos con la gestión de carpetas y ficheros desde Python 🙂🌊\\n', '\\n', 'Esto esta siendo suuuper divertidooooo']\n",
      "Esta es la línea 4: Esto esta siendo suuuper divertidooooo\n"
     ]
    }
   ],
   "source": [
    "leer_saludo()"
   ]
  },
  {
   "cell_type": "markdown",
   "metadata": {},
   "source": [
    "## 3. Lectura y escritura de ficheros\n",
    "\n",
    "La función debe recibir 4 parámetros:\n",
    "\n",
    "- Nombre del fichero, incluyendo la extensión.\n",
    "\n",
    "- Como queremos leer el fichero.\n",
    "\n",
    "- El encoding del fichero.\n",
    "\n",
    "- El contenido que queremos escribir en el fichero.\n",
    "\n",
    "Condiciones de la función:\n",
    "\n",
    "- Si el fichero no existe, debe crearlo, insertar contenido y mostrar su contenido.\n",
    "\n",
    "- Si el fichero existe pregunta al usuario si quiere sobreescribirlo. En caso de Si, sobreescribe el fichero, insertad contenido y leedlo. En caso de No, no hace nada.\n",
    "\n",
    "💡 Pistas 💡\n",
    "\n",
    "- Para chequear si un fichero existe, podemos usar la función os.listdir() que devuelve una lista con los nombres de los ficheros que hay en un directorio.\n",
    "\n",
    "- Para crear un fichero, podemos usar la función open() que recibe como parámetros el nombre del fichero, el modo de apertura y el encoding.\n",
    "\n",
    "- Para chequear si el fichero existe debéis usar los for loops y el método in para comprobar si el nombre del fichero está en la lista de ficheros.\n",
    "\n",
    "- Usar un input para preguntar al usuario si quiere sobreescribir el fichero.\n",
    "\n",
    "- Para sobreescribir el fichero, podemos usar la función open() que recibe como parámetros el nombre del fichero, el modo de apertura y el encoding.\n",
    "\n",
    "- Strings que cubren más que una línea tienen que ser iniciados y cerrados con tres comillas \"\"\"."
   ]
  },
  {
   "cell_type": "code",
   "execution_count": 331,
   "metadata": {},
   "outputs": [],
   "source": [
    "texto = \"\"\" Thu Oct 31 08:11:39 2002\n",
    "Return-Path: <bensul2004nng@spinfinder.com>\n",
    "X-Sieve: cmu-sieve 2.0\n",
    "Return-Path: <bensul2004nng@spinfinder.com>\n",
    "Message-Id: <200210311310.g9VDANt24674@bloodwork.mr.itd.UM>\n",
    "From: \"Mr. Ben Suleman\" <bensul2004nng@spinfinder.com>\n",
    "Date: Thu, 31 Oct 2002 05:10:00\n",
    "To: R@M\n",
    "Subject: URGENT ASSISTANCE /RELATIONSHIP (P)\n",
    "MIME-Version: 1.0\n",
    "Content-Type: text/plain;charset=\"iso-8859-1\"\n",
    "Content-Transfer-Encoding: 7bit\n",
    "Status: O\n",
    "\n",
    "Dear Friend,\n",
    "\n",
    "I am Mr. Ben Suleman a custom officer and work as Assistant controller of the Customs and Excise department Of the Federal Ministry of Internal Affairs stationed at the Murtala Mohammed International Airport, Ikeja, Lagos-Nigeria.\n",
    "\n",
    "After the sudden death of the former Head of state of Nigeria General Sanni Abacha on June 8th 1998 his aides and immediate members of his family were arrested while trying to escape from Nigeria in a Chartered jet to Saudi Arabia with 6 trunk boxes Marked \"Diplomatic Baggage\". Acting on a tip-off as they attempted to board the Air Craft,my officials carried out a thorough search on the air craft and discovered that the 6 trunk boxes contained foreign currencies amounting to US$197,570,000.00(One Hundred and  Ninety-Seven Million Five Hundred Seventy Thousand United States Dollars).\n",
    "\n",
    "I declared only (5) five boxes to the government and withheld one (1) in my custody containing the sum of (US$30,000,000.00) Thirty Million United States Dollars Only, which has been disguised to prevent their being discovered during transportation process.Due to several media reports on the late head of state about all the money him and his co-government officials stole from our government treasury amounting\n",
    "to US$55 Billion Dollars (ref:ngrguardiannews.com) of July 2nd 1999. Even the London times of July 1998 reported that General Abacha has over US$3.Billion dollars in one account overseas. We decided to conceal this one (1)box till the situation is calm and quite on the issue. The box was thus deposited with a security company here in Nigeria and tagged as \"Precious Stones and Jewellry\" in other that its\n",
    "content will not be discovered. Now that all is calm, we (myself and two of my colleagues in the operations team) are now ready to move this box out of the country through a diplomatic arrangement which is the safest means. \n",
    "\n",
    "However as government officials the Civil Service Code of Conduct does not allow us by law to operate any foreign account or own foreign investment and the amount of money that can be found in our account\n",
    "cannot be more than our salary on the average, thus our handicapp and our need for your assistance to help collect and keep safely in your account this money.\n",
    "\n",
    "Therefore we want you to assist us in moving this money out of Nigeria. We shall definitely compensate you handsomely for the assistance. We can do this by instructing the Security Company here in Nigeria to\n",
    "move the consignment to their affiliate branch office outside Nigeria through diplomatic means and the consignment will be termed as Precious Stones and Jewelleries\" which you bought during your visit to Nigeria and is being transfered to your country from here for safe keeping. Then we can arrange to meet at the destination country to take the delivery of the consignment. You will thereafter open an account there and lodge the Money there and gradually instruct remittance to your Country. \n",
    "\n",
    "This business is 100% risk free for you so please treat this matter with utmost confidentiality .If you indicate your interest to assist us please just e-mail me for more Explanation on how we plan to execute the transaction.\n",
    "\n",
    "Expecting your response urgently.\n",
    "\n",
    "Best regards,\n",
    "\n",
    "Mr. Ben Suleman\n",
    "\n",
    "Wed Oct 30 21:41:56 2002\n",
    "Return-Path: <james_ngola2002@maktoob.com>\n",
    "X-Sieve: cmu-sieve 2.0\n",
    "Return-Path: <james_ngola2002@maktoob.com>\n",
    "Message-Id: <200210310241.g9V2fNm6028281@cs.CU>\n",
    "From: \"MR. JAMES NGOLA.\" <james_ngola2002@maktoob.com>\n",
    "Reply-To: james_ngola2002@maktoob.com\n",
    "To: webmaster@aclweb.org\n",
    "Date: Thu, 31 Oct 2002 02:38:20 +0000\n",
    "Subject: URGENT BUSINESS ASSISTANCE AND PARTNERSHIP\n",
    "X-Mailer: Microsoft Outlook Express 5.00.2919.6900 DM\n",
    "MIME-Version: 1.0\n",
    "Content-Type: text/plain; charset=\"us-ascii\"\n",
    "Content-Transfer-Encoding: 8bit\n",
    "X-MIME-Autoconverted: from quoted-printable to 8bit by sideshowmel.si.UM id g9V2foW24311\n",
    "Status: O\n",
    "\n",
    "FROM:MR. JAMES NGOLA.\n",
    "CONFIDENTIAL TEL: 233-27-587908.\n",
    "E-MAIL: (james_ngola2002@maktoob.com).\n",
    "\n",
    "URGENT BUSINESS ASSISTANCE AND PARTNERSHIP.\n",
    "\n",
    "\n",
    "DEAR FRIEND,\n",
    "\n",
    "I AM ( DR.) JAMES NGOLA, THE PERSONAL ASSISTANCE TO THE LATE CONGOLESE (PRESIDENT LAURENT KABILA) WHO WAS ASSASSINATED BY HIS BODY GUARD ON 16TH JAN. 2001.\n",
    "\n",
    "\n",
    "THE INCIDENT OCCURRED IN OUR PRESENCE WHILE WE WERE HOLDING MEETING WITH HIS EXCELLENCY OVER THE FINANCIAL RETURNS FROM THE DIAMOND SALES IN THE AREAS CONTROLLED BY (D.R.C.) DEMOCRATIC REPUBLIC OF CONGO FORCES AND THEIR FOREIGN ALLIES ANGOLA AND ZIMBABWE, HAVING RECEIVED THE PREVIOUS DAY (USD$100M) ONE HUNDRED MILLION UNITED STATES DOLLARS, CASH IN THREE DIPLOMATIC BOXES ROUTED THROUGH ZIMBABWE.\n",
    "\n",
    "MY PURPOSE OF WRITING YOU THIS LETTER IS TO SOLICIT FOR YOUR ASSISTANCE AS TO BE A COVER TO THE FUND AND ALSO COLLABORATION IN MOVING THE SAID FUND INTO YOUR BANK ACCOUNT THE SUM OF (USD$25M) TWENTY FIVE MILLION UNITED STATES DOLLARS ONLY, WHICH I DEPOSITED WITH A SECURITY COMPANY IN GHANA, IN A DIPLOMATIC BOX AS GOLDS WORTH (USD$25M) TWENTY FIVE MILLION UNITED STATES DOLLARS ONLY FOR SAFE KEEPING IN A SECURITY VAULT FOR ANY FURTHER INVESTMENT PERHAPS IN YOUR COUNTRY. \n",
    "\n",
    "YOU WERE INTRODUCED TO ME BY A RELIABLE FRIEND OF MINE WHO IS A TRAVELLER,AND ALSO A MEMBER OF CHAMBER OF COMMERCE AS A RELIABLE AND TRUSTWORTHY PERSON WHOM I CAN RELY ON AS FOREIGN PARTNER, EVEN THOUGH THE NATURE OF THE TRANSACTION WAS NOT REVEALED TO HIM FOR SECURITY REASONS.\n",
    "\n",
    "\n",
    "THE (USD$25M) WAS PART OF A PROCEEDS FROM DIAMOND TRADE MEANT FOR THE LATE PRESIDENT LAURENT KABILA WHICH WAS DELIVERED THROUGH ZIMBABWE IN DIPLOMATIC BOXES. THE BOXES WERE KEPT UNDER MY CUSTODY BEFORE THE SAD EVENT THAT TOOK THE LIFE OF (MR. PRESIDENT).THE CONFUSION THAT ENSUED AFTER THE ASSASSINATION AND THE SPORADIC SHOOTING AMONG THE FACTIONS, I HAVE TO RUN AWAY FROM THE COUNTRY FOR MY DEAR LIFE AS I AM NOT A SOLDIER BUT A CIVIL SERVANT I CROSSED RIVER CONGO TO OTHER SIDE OF CONGO LIBREVILLE FROM THERE I MOVED TO THE THIRD COUNTRY GHANA WHERE I AM PRESENTLY TAKING REFUGE. \n",
    "\n",
    "AS A MATTER OF FACT, WHAT I URGENTLY NEEDED FROM YOU IS YOUR ASSISTANCE IN MOVING THIS MONEY INTO YOUR ACCOUNT IN YOUR COUNTRY FOR INVESTMENT WITHOUT RAISING EYEBROW. FOR YOUR ASSISTANCE I WILL GIVE YOU 20% OF THE TOTAL SUM AS YOUR OWN SHARE WHEN THE MONEY GETS TO YOUR ACCOUNT, WHILE 75% WILL BE FOR ME, OF WHICH WITH YOUR KIND ADVICE I HOPE TO INVEST IN PROFITABLE VENTURE IN YOUR COUNTRY IN OTHER TO SETTLE DOWN FOR MEANINGFUL LIFE, AS I AM TIRED OF LIVING IN A WAR ENVIRONMENT. \n",
    "\n",
    "THE REMAINING 5% WILL BE USED TO OFFSET ANY COST INCURRED IN THE CAUSE OF MOVING THE MONEY TO YOUR ACCOUNT. IF THE PROPOSAL IS ACCEPTABLE TO YOU PLEASE CONTACT ME IMMEDIATELY THROUGH THE ABOVE TELEPHONE AND E-MAIL, TO ENABLE ME ARRANGE FACE TO FACE MEETING WITH YOU IN GHANA FOR THE CLEARANCE OF THE FUNDS BEFORE TRANSFRING IT TO YOUR BANK ACCOUNT AS SEEING IS BELIEVING. \n",
    "\n",
    "FINALLY, IT IS IMPORTANT ALSO THAT I LET YOU UNDERSTAND THAT THERE IS NO RISK INVOLVED WHATSOEVER AS THE MONEY HAD NO RECORD IN KINSHASA FOR IT WAS MEANT FOR THE PERSONAL USE OF (MR. PRESIDEND ) BEFORE THE NEFARIOUS INCIDENT OCCURRED, AND ALSO I HAVE ALL THE NECESSARY DOCUMENTS AS REGARDS TO THE FUNDS INCLUDING THE (CERTIFICATE OF DEPOSIT), AS I AM THE DEPOSITOR OF THE CONSIGNMENT.\n",
    "\n",
    "\n",
    "LOOKING FORWARD TO YOUR URGENT RESPONSE.\n",
    "\n",
    "YOUR SINCERELY,\n",
    "\n",
    "MR. JAMES NGOLA.\"\"\""
   ]
  },
  {
   "cell_type": "code",
   "execution_count": 333,
   "metadata": {},
   "outputs": [],
   "source": [
    "nombre_fichero= \"email.txt\""
   ]
  },
  {
   "cell_type": "code",
   "execution_count": 334,
   "metadata": {},
   "outputs": [],
   "source": [
    "import os"
   ]
  },
  {
   "cell_type": "code",
   "execution_count": 338,
   "metadata": {},
   "outputs": [],
   "source": [
    "def leeryecribir (fichero, contenido, mode = \"r\", encoding=\"utf-8\"):\n",
    "    \n",
    "    import os\n",
    "\n",
    "    # primero queremos saber donde estamos:\n",
    "    mi_ubicacion = os.getcwd()\n",
    "    print(f\"Tu directorio de trabajo actual es: {mi_ubicacion}\")\n",
    "\n",
    "    # Si el nombre del fichero no existe en el directorio\n",
    "\n",
    "    respuesta_ubicacion = input(\"Deseas crear el fichero en esta ubicacion? S/N\").upper()\n",
    "    if respuesta_ubicacion == \"S\":\n",
    "        lista_ficheros = os.listdir()\n",
    "        print(lista_ficheros)\n",
    "\n",
    "\n",
    "        if fichero not in os.listdir():\n",
    "            with open(fichero,\"x\") as n:\n",
    "                n.write(contenido)\n",
    "                n.close()\n",
    "            with open(fichero,\"r\", encoding= \"utf-8\" ) as n:\n",
    "                print (n.readlines())\n",
    "                n.close()\n",
    "\n",
    "\n",
    "    # Archivo en el directorio\n",
    "\n",
    "        elif fichero in lista_ficheros:\n",
    "            print(\"Este fichero ya existe\")\n",
    "            print(\"¿Quieres sobreescribirlo S/N\")\n",
    "            respuesta = input(\"¿Quieres sobreescribirlo? Elige S/N\").upper()\n",
    "            print(f\"Tu respuesta ha sido {respuesta}\")\n",
    "\n",
    "            if respuesta == \"S\":\n",
    "                with open(fichero,\"w\") as n:\n",
    "                    n.write(contenido)\n",
    "                    n.close()\n",
    "\n",
    "                with open (fichero, mode=\"r\", encoding= \"utf-8\" ) as n:\n",
    "                    print (n.readlines())\n",
    "\n",
    "    else:\n",
    "        print(\"Ve al directorio donde deseas crear el archivo y vuelve a iniciar.\")\n",
    "        "
   ]
  },
  {
   "cell_type": "code",
   "execution_count": 339,
   "metadata": {},
   "outputs": [
    {
     "name": "stdout",
     "output_type": "stream",
     "text": [
      "Tu directorio de trabajo actual es: /mnt/d/Ximena/Adalab/Módulo 1/DA_PRomoC_Modulo1-Sprint2-XimenaYAna/Python/primera-toma-contacto/datos\n",
      "['email.txt', 'saludo.txt']\n",
      "Este fichero ya existe\n",
      "¿Quieres sobreescribirlo S/N\n",
      "Tu respuesta ha sido S\n",
      "[' Thu Oct 31 08:11:39 2002\\n', 'Return-Path: <bensul2004nng@spinfinder.com>\\n', 'X-Sieve: cmu-sieve 2.0\\n', 'Return-Path: <bensul2004nng@spinfinder.com>\\n', 'Message-Id: <200210311310.g9VDANt24674@bloodwork.mr.itd.UM>\\n', 'From: \"Mr. Ben Suleman\" <bensul2004nng@spinfinder.com>\\n', 'Date: Thu, 31 Oct 2002 05:10:00\\n', 'To: R@M\\n', 'Subject: URGENT ASSISTANCE /RELATIONSHIP (P)\\n', 'MIME-Version: 1.0\\n', 'Content-Type: text/plain;charset=\"iso-8859-1\"\\n', 'Content-Transfer-Encoding: 7bit\\n', 'Status: O\\n', '\\n', 'Dear Friend,\\n', '\\n', 'I am Mr. Ben Suleman a custom officer and work as Assistant controller of the Customs and Excise department Of the Federal Ministry of Internal Affairs stationed at the Murtala Mohammed International Airport, Ikeja, Lagos-Nigeria.\\n', '\\n', 'After the sudden death of the former Head of state of Nigeria General Sanni Abacha on June 8th 1998 his aides and immediate members of his family were arrested while trying to escape from Nigeria in a Chartered jet to Saudi Arabia with 6 trunk boxes Marked \"Diplomatic Baggage\". Acting on a tip-off as they attempted to board the Air Craft,my officials carried out a thorough search on the air craft and discovered that the 6 trunk boxes contained foreign currencies amounting to US$197,570,000.00(One Hundred and  Ninety-Seven Million Five Hundred Seventy Thousand United States Dollars).\\n', '\\n', 'I declared only (5) five boxes to the government and withheld one (1) in my custody containing the sum of (US$30,000,000.00) Thirty Million United States Dollars Only, which has been disguised to prevent their being discovered during transportation process.Due to several media reports on the late head of state about all the money him and his co-government officials stole from our government treasury amounting\\n', 'to US$55 Billion Dollars (ref:ngrguardiannews.com) of July 2nd 1999. Even the London times of July 1998 reported that General Abacha has over US$3.Billion dollars in one account overseas. We decided to conceal this one (1)box till the situation is calm and quite on the issue. The box was thus deposited with a security company here in Nigeria and tagged as \"Precious Stones and Jewellry\" in other that its\\n', 'content will not be discovered. Now that all is calm, we (myself and two of my colleagues in the operations team) are now ready to move this box out of the country through a diplomatic arrangement which is the safest means. \\n', '\\n', 'However as government officials the Civil Service Code of Conduct does not allow us by law to operate any foreign account or own foreign investment and the amount of money that can be found in our account\\n', 'cannot be more than our salary on the average, thus our handicapp and our need for your assistance to help collect and keep safely in your account this money.\\n', '\\n', 'Therefore we want you to assist us in moving this money out of Nigeria. We shall definitely compensate you handsomely for the assistance. We can do this by instructing the Security Company here in Nigeria to\\n', 'move the consignment to their affiliate branch office outside Nigeria through diplomatic means and the consignment will be termed as Precious Stones and Jewelleries\" which you bought during your visit to Nigeria and is being transfered to your country from here for safe keeping. Then we can arrange to meet at the destination country to take the delivery of the consignment. You will thereafter open an account there and lodge the Money there and gradually instruct remittance to your Country. \\n', '\\n', 'This business is 100% risk free for you so please treat this matter with utmost confidentiality .If you indicate your interest to assist us please just e-mail me for more Explanation on how we plan to execute the transaction.\\n', '\\n', 'Expecting your response urgently.\\n', '\\n', 'Best regards,\\n', '\\n', 'Mr. Ben Suleman\\n', '\\n', 'Wed Oct 30 21:41:56 2002\\n', 'Return-Path: <james_ngola2002@maktoob.com>\\n', 'X-Sieve: cmu-sieve 2.0\\n', 'Return-Path: <james_ngola2002@maktoob.com>\\n', 'Message-Id: <200210310241.g9V2fNm6028281@cs.CU>\\n', 'From: \"MR. JAMES NGOLA.\" <james_ngola2002@maktoob.com>\\n', 'Reply-To: james_ngola2002@maktoob.com\\n', 'To: webmaster@aclweb.org\\n', 'Date: Thu, 31 Oct 2002 02:38:20 +0000\\n', 'Subject: URGENT BUSINESS ASSISTANCE AND PARTNERSHIP\\n', 'X-Mailer: Microsoft Outlook Express 5.00.2919.6900 DM\\n', 'MIME-Version: 1.0\\n', 'Content-Type: text/plain; charset=\"us-ascii\"\\n', 'Content-Transfer-Encoding: 8bit\\n', 'X-MIME-Autoconverted: from quoted-printable to 8bit by sideshowmel.si.UM id g9V2foW24311\\n', 'Status: O\\n', '\\n', 'FROM:MR. JAMES NGOLA.\\n', 'CONFIDENTIAL TEL: 233-27-587908.\\n', 'E-MAIL: (james_ngola2002@maktoob.com).\\n', '\\n', 'URGENT BUSINESS ASSISTANCE AND PARTNERSHIP.\\n', '\\n', '\\n', 'DEAR FRIEND,\\n', '\\n', 'I AM ( DR.) JAMES NGOLA, THE PERSONAL ASSISTANCE TO THE LATE CONGOLESE (PRESIDENT LAURENT KABILA) WHO WAS ASSASSINATED BY HIS BODY GUARD ON 16TH JAN. 2001.\\n', '\\n', '\\n', 'THE INCIDENT OCCURRED IN OUR PRESENCE WHILE WE WERE HOLDING MEETING WITH HIS EXCELLENCY OVER THE FINANCIAL RETURNS FROM THE DIAMOND SALES IN THE AREAS CONTROLLED BY (D.R.C.) DEMOCRATIC REPUBLIC OF CONGO FORCES AND THEIR FOREIGN ALLIES ANGOLA AND ZIMBABWE, HAVING RECEIVED THE PREVIOUS DAY (USD$100M) ONE HUNDRED MILLION UNITED STATES DOLLARS, CASH IN THREE DIPLOMATIC BOXES ROUTED THROUGH ZIMBABWE.\\n', '\\n', 'MY PURPOSE OF WRITING YOU THIS LETTER IS TO SOLICIT FOR YOUR ASSISTANCE AS TO BE A COVER TO THE FUND AND ALSO COLLABORATION IN MOVING THE SAID FUND INTO YOUR BANK ACCOUNT THE SUM OF (USD$25M) TWENTY FIVE MILLION UNITED STATES DOLLARS ONLY, WHICH I DEPOSITED WITH A SECURITY COMPANY IN GHANA, IN A DIPLOMATIC BOX AS GOLDS WORTH (USD$25M) TWENTY FIVE MILLION UNITED STATES DOLLARS ONLY FOR SAFE KEEPING IN A SECURITY VAULT FOR ANY FURTHER INVESTMENT PERHAPS IN YOUR COUNTRY. \\n', '\\n', 'YOU WERE INTRODUCED TO ME BY A RELIABLE FRIEND OF MINE WHO IS A TRAVELLER,AND ALSO A MEMBER OF CHAMBER OF COMMERCE AS A RELIABLE AND TRUSTWORTHY PERSON WHOM I CAN RELY ON AS FOREIGN PARTNER, EVEN THOUGH THE NATURE OF THE TRANSACTION WAS NOT REVEALED TO HIM FOR SECURITY REASONS.\\n', '\\n', '\\n', 'THE (USD$25M) WAS PART OF A PROCEEDS FROM DIAMOND TRADE MEANT FOR THE LATE PRESIDENT LAURENT KABILA WHICH WAS DELIVERED THROUGH ZIMBABWE IN DIPLOMATIC BOXES. THE BOXES WERE KEPT UNDER MY CUSTODY BEFORE THE SAD EVENT THAT TOOK THE LIFE OF (MR. PRESIDENT).THE CONFUSION THAT ENSUED AFTER THE ASSASSINATION AND THE SPORADIC SHOOTING AMONG THE FACTIONS, I HAVE TO RUN AWAY FROM THE COUNTRY FOR MY DEAR LIFE AS I AM NOT A SOLDIER BUT A CIVIL SERVANT I CROSSED RIVER CONGO TO OTHER SIDE OF CONGO LIBREVILLE FROM THERE I MOVED TO THE THIRD COUNTRY GHANA WHERE I AM PRESENTLY TAKING REFUGE. \\n', '\\n', 'AS A MATTER OF FACT, WHAT I URGENTLY NEEDED FROM YOU IS YOUR ASSISTANCE IN MOVING THIS MONEY INTO YOUR ACCOUNT IN YOUR COUNTRY FOR INVESTMENT WITHOUT RAISING EYEBROW. FOR YOUR ASSISTANCE I WILL GIVE YOU 20% OF THE TOTAL SUM AS YOUR OWN SHARE WHEN THE MONEY GETS TO YOUR ACCOUNT, WHILE 75% WILL BE FOR ME, OF WHICH WITH YOUR KIND ADVICE I HOPE TO INVEST IN PROFITABLE VENTURE IN YOUR COUNTRY IN OTHER TO SETTLE DOWN FOR MEANINGFUL LIFE, AS I AM TIRED OF LIVING IN A WAR ENVIRONMENT. \\n', '\\n', 'THE REMAINING 5% WILL BE USED TO OFFSET ANY COST INCURRED IN THE CAUSE OF MOVING THE MONEY TO YOUR ACCOUNT. IF THE PROPOSAL IS ACCEPTABLE TO YOU PLEASE CONTACT ME IMMEDIATELY THROUGH THE ABOVE TELEPHONE AND E-MAIL, TO ENABLE ME ARRANGE FACE TO FACE MEETING WITH YOU IN GHANA FOR THE CLEARANCE OF THE FUNDS BEFORE TRANSFRING IT TO YOUR BANK ACCOUNT AS SEEING IS BELIEVING. \\n', '\\n', 'FINALLY, IT IS IMPORTANT ALSO THAT I LET YOU UNDERSTAND THAT THERE IS NO RISK INVOLVED WHATSOEVER AS THE MONEY HAD NO RECORD IN KINSHASA FOR IT WAS MEANT FOR THE PERSONAL USE OF (MR. PRESIDEND ) BEFORE THE NEFARIOUS INCIDENT OCCURRED, AND ALSO I HAVE ALL THE NECESSARY DOCUMENTS AS REGARDS TO THE FUNDS INCLUDING THE (CERTIFICATE OF DEPOSIT), AS I AM THE DEPOSITOR OF THE CONSIGNMENT.\\n', '\\n', '\\n', 'LOOKING FORWARD TO YOUR URGENT RESPONSE.\\n', '\\n', 'YOUR SINCERELY,\\n', '\\n', 'MR. JAMES NGOLA.']\n"
     ]
    }
   ],
   "source": [
    "leeryecribir (nombre_fichero, texto, mode = \"r\", encoding=\"utf-8\")"
   ]
  },
  {
   "cell_type": "markdown",
   "metadata": {},
   "source": [
    "### Archivos XML\n",
    "Aquí tenéis un archivo llamado peliculas.xml que contiene una lista de películas.\n",
    "\n",
    "En este ejercicio tendréis que crear una función que reciba el nombre del archivo xml y que devuelva lo siguiente:\n",
    "\n",
    "- Qué tag y atributos tiene el archivo xml.\n",
    "\n",
    "- La descripción de cada una de las películas que tenemos en ese archivo.\n",
    "\n",
    "- Los años en que fueron estrenadas las películas.\n",
    "\n",
    "💡 Pistas 💡\n",
    "\n",
    "La función debe recibir un parámetro, el nombre del archivo xml.\n",
    "Tendréis que utlizar un bucle for para recorrer todo el archivo xml y extraer la información que os pedimos.\n",
    "Recordad el método .text para extraer el texto de un elemento."
   ]
  },
  {
   "cell_type": "code",
   "execution_count": null,
   "metadata": {},
   "outputs": [],
   "source": [
    "def describir_xml(nombre_archivo):\n",
    "    "
   ]
  },
  {
   "cell_type": "code",
   "execution_count": 11,
   "metadata": {},
   "outputs": [
    {
     "name": "stdout",
     "output_type": "stream",
     "text": [
      "El tag del elemento padre de este archivo es: collection\n",
      "Los atributos del elemento padre de este archivo son: {}\n"
     ]
    }
   ],
   "source": [
    "import xml.etree.ElementTree as ET\n",
    "tree = ET.parse('peliculas.xml')\n",
    "\n",
    "root = tree.getroot()\n",
    "\n",
    "# Información del root\n",
    "\n",
    "print(f\"El tag del elemento padre de este archivo es: {root.tag}\")\n",
    "\n",
    "print(f\"Los atributos del elemento padre de este archivo son: {root.attrib}\")\n",
    "\n",
    "# Información de hijos y nietos\n",
    "\n",
    "\n"
   ]
  },
  {
   "cell_type": "code",
   "execution_count": 16,
   "metadata": {},
   "outputs": [
    {
     "name": "stdout",
     "output_type": "stream",
     "text": [
      "genre: es un hijo. Con estos atributos:{'category': 'Action'}\n",
      "decade: es un nieto. Con estos atributos:{'years': '1980s'}\n",
      "movie: es un bisnieto. Con estos atributos:{'favorite': 'True', 'title': 'Indiana Jones: The raiders of the lost Ark'}\n",
      "movie: es un bisnieto. Con estos atributos:{'favorite': 'True', 'title': 'THE KARATE KID'}\n",
      "movie: es un bisnieto. Con estos atributos:{'favorite': 'False', 'title': 'Back 2 the Future'}\n",
      "decade: es un nieto. Con estos atributos:{'years': '1990s'}\n",
      "movie: es un bisnieto. Con estos atributos:{'favorite': 'False', 'title': 'X-Men'}\n",
      "movie: es un bisnieto. Con estos atributos:{'favorite': 'True', 'title': 'Batman Returns'}\n",
      "movie: es un bisnieto. Con estos atributos:{'favorite': 'False', 'title': 'Reservoir Dogs'}\n",
      "genre: es un hijo. Con estos atributos:{'category': 'Thriller'}\n",
      "decade: es un nieto. Con estos atributos:{'years': '1970s'}\n",
      "movie: es un bisnieto. Con estos atributos:{'favorite': 'False', 'title': 'ALIEN'}\n",
      "decade: es un nieto. Con estos atributos:{'years': '1980s'}\n",
      "movie: es un bisnieto. Con estos atributos:{'favorite': 'True', 'title': \"Ferris Bueller's Day Off\"}\n",
      "movie: es un bisnieto. Con estos atributos:{'favorite': 'FALSE', 'title': 'American Psycho'}\n"
     ]
    }
   ],
   "source": [
    "for child in root:\n",
    "    print (f\"{child.tag}: es un hijo. Con estos atributos:{child.attrib}\")\n",
    "    for subchild in child:\n",
    "        print (f\"{subchild.tag}: es un nieto. Con estos atributos:{subchild.attrib}\")\n",
    "        for subsubchild in subchild:\n",
    "            print (f\"{subsubchild.tag}: es un bisnieto. Con estos atributos:{subsubchild.attrib}\")"
   ]
  },
  {
   "cell_type": "code",
   "execution_count": 5,
   "metadata": {},
   "outputs": [
    {
     "name": "stdout",
     "output_type": "stream",
     "text": [
      "collection\n"
     ]
    }
   ],
   "source": [
    "for child in root:\n",
    "    print (f\"{child.tag}: es un hijo. Con estos atributos:{child.attrib}\")\n",
    "    for subchild in child:\n",
    "        print (f\"{subchild.tag}: es un nieto. Con estos atributos:{subchild.attrib}\")\n",
    "        for subsubchild in subchild:\n",
    "            print (f\"{subsubchild.tag}: es un bisnieto. Con estos atributos:{subsubchild.attrib}\")"
   ]
  },
  {
   "cell_type": "code",
   "execution_count": 21,
   "metadata": {},
   "outputs": [
    {
     "name": "stdout",
     "output_type": "stream",
     "text": [
      "\n",
      "        \n"
     ]
    }
   ],
   "source": [
    "print(root.find(\"genre\").text)"
   ]
  }
 ],
 "metadata": {
  "kernelspec": {
   "display_name": "Python 3.9.13 ('base')",
   "language": "python",
   "name": "python3"
  },
  "language_info": {
   "codemirror_mode": {
    "name": "ipython",
    "version": 3
   },
   "file_extension": ".py",
   "mimetype": "text/x-python",
   "name": "python",
   "nbconvert_exporter": "python",
   "pygments_lexer": "ipython3",
   "version": "3.9.13"
  },
  "orig_nbformat": 4,
  "vscode": {
   "interpreter": {
    "hash": "f2104d434ce3092b7c07d5af98c90652611c7ad655b2a72b59e9e675e449bc7b"
   }
  }
 },
 "nbformat": 4,
 "nbformat_minor": 2
}
