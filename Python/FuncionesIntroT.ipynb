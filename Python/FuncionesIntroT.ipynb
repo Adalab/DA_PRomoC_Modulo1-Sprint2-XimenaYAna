{
 "cells": [
  {
   "cell_type": "markdown",
   "metadata": {},
   "source": [
    "## Notebook de ejercicios de pair programming dia 16 noviembre: Funciones intro"
   ]
  },
  {
   "cell_type": "markdown",
   "metadata": {},
   "source": [
    "Ejercicio 1: \n",
    "\n",
    "1. Cread una función que reciba 2 números enteros en forma de string como entrada, \n",
    "y dé como resultado la suma (también en forma de string)\n",
    "\n",
    "Condiciones:\n",
    "\n",
    "Si los dos parámetros que recibe la función son strings vacíos la función nos debe devolver \"0\"\n",
    "Si el primer parámetro es un string vacío, la función nos devuelve el valor del segundo parámetro y viceversa.\n",
    "Probad la función para las siguientes combinaciones de \"números\"\n",
    "\n",
    "\"4\",  \"5\" --> \"9\"\n",
    "\n",
    "\"34\", \"5\" --> \"39\"\n",
    "\n",
    "\"\", \"\" --> \"0\"\n",
    "\n",
    "\"2\", \"\" --> \"2\"\n",
    "\n",
    "\"-5\", \"3\" --> \"-2\"\n"
   ]
  },
  {
   "cell_type": "code",
   "execution_count": 19,
   "metadata": {},
   "outputs": [],
   "source": [
    "#Creamos una funcion que recibira dos parametros, a y b\n",
    "\n",
    "def sumar_str(a, b):\n",
    "    suma_s = 0      #Creamos una variable con valor 0 para poder mostrar el resultado de las operaciones\n",
    "    if a == (\"\") and b == (\"\"):\n",
    "        suma_s = 0\n",
    "        return str(suma_s)\n",
    "    elif a == (\"\"):\n",
    "        suma_s = b\n",
    "        return str(suma_s)\n",
    "    elif b == (\"\"):\n",
    "        suma_s = a\n",
    "        return str(suma_s)\n",
    "    elif type(a) == str and type(b) == str :\n",
    "        a = int(a) \n",
    "        b = int(b)\n",
    "        suma_s = a + b\n",
    "        return str(suma_s)\n",
    "    return str(suma_s)\n"
   ]
  },
  {
   "cell_type": "code",
   "execution_count": 21,
   "metadata": {},
   "outputs": [
    {
     "data": {
      "text/plain": [
       "'38'"
      ]
     },
     "execution_count": 21,
     "metadata": {},
     "output_type": "execute_result"
    }
   ],
   "source": [
    "#Comprobamos que funciona con los ejemplos del ejercicio\n",
    "\n",
    "sumar_str(\"35\", \"3\")"
   ]
  },
  {
   "cell_type": "markdown",
   "metadata": {},
   "source": [
    "2. El objetivo es comparar cada par de enteros de 2 listas, y devolver una nueva lista con el número mayor de la comapración..\n",
    "Probad la función para las siguientes listas: \n",
    "\n",
    "arr1 = [13, 64, 15, 17, 88]\n",
    "\n",
    "arr2 = [23, 14, 53, 17, 80]\n",
    "\n",
    "resultado = [23, 64, 53, 17, 88]\n",
    "\n",
    "💡 Pista 💡 En Python existe el método zip."
   ]
  },
  {
   "cell_type": "code",
   "execution_count": 35,
   "metadata": {},
   "outputs": [],
   "source": [
    "#Probad la función para las siguientes listas: \n",
    "\n",
    "arr1 = [13, 64, 15, 17, 88]\n",
    "arr2 = [23, 14, 53, 17, 80]\n",
    "# resultado = [23, 64, 53, 17, 88]"
   ]
  },
  {
   "cell_type": "code",
   "execution_count": 22,
   "metadata": {},
   "outputs": [],
   "source": [
    "arr1 = [13, 64, 15, 17, 88]\n",
    "arr2 = [23, 14, 53, 17, 80]\n",
    "\n",
    "#Definimos la funcion que recibira dos listas de numeros\n",
    "\n",
    "def comparar_pares (lista1,lista2):\n",
    "    pares = list(zip(lista1,lista2)) #Creamos una variable para poder meter el resultado de hacer zip con las dos listas\n",
    "    enteros_mayores = []    #Creamos una lista vacia para poder apendear los numeros enteros que sean mayores\n",
    "    for i in pares:\n",
    "        i = list(i)\n",
    "        maximo = max(list(i))\n",
    "        enteros_mayores.append(maximo)\n",
    "    return enteros_mayores\n"
   ]
  },
  {
   "cell_type": "code",
   "execution_count": 23,
   "metadata": {},
   "outputs": [
    {
     "data": {
      "text/plain": [
       "[23, 64, 53, 17, 88]"
      ]
     },
     "execution_count": 23,
     "metadata": {},
     "output_type": "execute_result"
    }
   ],
   "source": [
    "#Comprobamos que funciona con las listas de numero que nos ha dado el ejercicio\n",
    "\n",
    "comparar_pares(arr1,arr2)"
   ]
  },
  {
   "cell_type": "markdown",
   "metadata": {},
   "source": [
    "3- El objetivo de este ejercicio es convertir un string en un nuevo string en el que cada \n",
    "\n",
    "carácter del nuevo string es \"(\" si ese carácter aparece sólo una vez en el string original, o \")\" si ese carácter \n",
    "\n",
    "aparece más de una vez en el string. Nuestro código no tiene que ser case sensitive, es decir, si hay una letra en \n",
    "\n",
    "mayúscula y en minúscula cuenta como dos apariciones.\n"
   ]
  },
  {
   "cell_type": "code",
   "execution_count": 72,
   "metadata": {},
   "outputs": [],
   "source": [
    "\n",
    "def cambiar_parentesis(palabra):\n",
    "\n",
    "    \n",
    "    parentesis= \"\"    #Creamos una variable con solo \"\" para poder ir sumando un tipo de corchete u otro\n",
    "    for i in palabra.lower():\n",
    "        conteo = palabra.count(i)  #en esta variable guardaremos cuantas letras hay iguales en la palabra\n",
    "        \n",
    "        if conteo == 1:\n",
    "            parentesis += '('\n",
    "        elif conteo > 1:\n",
    "            parentesis += \")\"\n",
    "    return parentesis"
   ]
  },
  {
   "cell_type": "code",
   "execution_count": 73,
   "metadata": {},
   "outputs": [],
   "source": [
    "palabra1= \"din\"\n",
    "palabra2= \"recede\"\n",
    "palabra3= \"Success\"\n",
    "palabra4= \"(( @\"\n",
    "palabra5= \"Ocvl@GamFLAFkixkS\"\n"
   ]
  },
  {
   "cell_type": "code",
   "execution_count": 74,
   "metadata": {},
   "outputs": [
    {
     "data": {
      "text/plain": [
       "'(((((((()(()'"
      ]
     },
     "execution_count": 74,
     "metadata": {},
     "output_type": "execute_result"
    }
   ],
   "source": [
    "#Comprobamos que funciona para las palabas del ejemplo\n",
    "\n",
    "cambiar_parentesis(palabra5)"
   ]
  },
  {
   "cell_type": "code",
   "execution_count": 75,
   "metadata": {},
   "outputs": [
    {
     "data": {
      "text/plain": [
       "'ocvl@gamflafkixks'"
      ]
     },
     "execution_count": 75,
     "metadata": {},
     "output_type": "execute_result"
    }
   ],
   "source": [
    "minus= palabra5.lower()\n",
    "minus"
   ]
  },
  {
   "cell_type": "markdown",
   "metadata": {},
   "source": [
    "BONUS 4. A Pete le gusta hacer pasteles. Tiene algunas recetas e ingredientes. Desgraciadamente, no se le dan bien las matemáticas. \n",
    "\n",
    "¿Puedes ayudarle a averiguar cuántas tartas puede hacer teniendo en cuenta sus recetas?"
   ]
  },
  {
   "cell_type": "code",
   "execution_count": 32,
   "metadata": {},
   "outputs": [],
   "source": [
    "receta = {'flour': 500, 'sugar': 200, 'eggs': 1}\n",
    "\n",
    "ingredientes = {'flour': 1200, 'sugar': 1200, 'eggs': 5, 'milk': 200}"
   ]
  },
  {
   "cell_type": "code",
   "execution_count": 35,
   "metadata": {},
   "outputs": [],
   "source": [
    "#Creamos una funcion que recibira dos diccionarios, uno con los ingredientes de la receta y otros con los que tengo en casa\n",
    "\n",
    "def calcular_receta (dic_receta,dic_ingredientes):\n",
    "    numero_bizcochos = []        #creamos una lista donde se incluyen los resultados de una división entera.\n",
    "    for key in dic_receta:\n",
    "    # Compruebo si tengo o no los ingredientes de la receta en casa.\n",
    "        if key not in dic_ingredientes: # Si no tengo los ingredientes se para el bucle indicando que no se puede hacer la receta\n",
    "            return f\"No tenemos el ingrediente {key}, no podemos hacer la receta.\"\n",
    "        else: # Si tengo los ingredientes, debo calcular si tengo la cantidad requerida.\n",
    "            numero_bizcochos.append(dic_ingredientes[key] // dic_receta[key]) \n",
    "            min(numero_bizcochos) #El resultado menor de las divisiones, será el número de bizcochos para los que tengo ingredientes.\n",
    "            return min(numero_bizcochos)\n",
    "            "
   ]
  },
  {
   "cell_type": "code",
   "execution_count": 36,
   "metadata": {},
   "outputs": [
    {
     "data": {
      "text/plain": [
       "2"
      ]
     },
     "execution_count": 36,
     "metadata": {},
     "output_type": "execute_result"
    }
   ],
   "source": [
    "calcular_receta (receta, ingredientes)\n"
   ]
  },
  {
   "cell_type": "markdown",
   "metadata": {},
   "source": [
    "BONUS 5. Escribid una función que va a ser una calculadora. La lista recibirá dos parámetros, una lista de números y un string con la operación que queremos hacer (puede ser \"*\", \"+\")"
   ]
  },
  {
   "cell_type": "code",
   "execution_count": 37,
   "metadata": {},
   "outputs": [],
   "source": [
    "lista1 = [11, 6, 98, 1, 2] , \"*\"\n",
    "lista2 = [23,34, 56, 11, 90] , \"+\"\n",
    "lista3 = [23, 4,109 , 94, 77] , \"-\""
   ]
  },
  {
   "cell_type": "code",
   "execution_count": 9,
   "metadata": {},
   "outputs": [],
   "source": [
    "def calcularnumerosystring (list_listans):\n",
    "    result = 1\n",
    "    if list_listans [1]== \"*\" : # Identificamos el tipo de operación, indicada en el índice [1]\n",
    "        for num in list_listans[0]: # Aplicamos un bucle for para ir multiplicando los numero en una variable. \n",
    "            result= result*num # Se crea la variable result con valor 1, para que la primera multiplicación de como resultado el mismo número.\n",
    "        return result\n",
    "    elif list_listans [1]== \"+\" :\n",
    "        for num in list_listans[0]:\n",
    "            result= result+num\n",
    "        return result-1 # En el caso de la suma, se deberá restar 1 al resultado porque sta variable se creo con valor 1.\n",
    "    else: \n",
    "        return \"Lo siento, necesito que me pases una operación valida.\""
   ]
  },
  {
   "cell_type": "code",
   "execution_count": 10,
   "metadata": {},
   "outputs": [
    {
     "data": {
      "text/plain": [
       "12936"
      ]
     },
     "execution_count": 10,
     "metadata": {},
     "output_type": "execute_result"
    }
   ],
   "source": [
    "calcularnumerosystring (lista1)"
   ]
  }
 ],
 "metadata": {
  "kernelspec": {
   "display_name": "Python 3.9.7 ('base')",
   "language": "python",
   "name": "python3"
  },
  "language_info": {
   "codemirror_mode": {
    "name": "ipython",
    "version": 3
   },
   "file_extension": ".py",
   "mimetype": "text/x-python",
   "name": "python",
   "nbconvert_exporter": "python",
   "pygments_lexer": "ipython3",
   "version": "3.9.7"
  },
  "orig_nbformat": 4,
  "vscode": {
   "interpreter": {
    "hash": "3caf7024699363795119074055a58e45741f300ae36cbc0c7edc7c57844505fc"
   }
  }
 },
 "nbformat": 4,
 "nbformat_minor": 2
}
