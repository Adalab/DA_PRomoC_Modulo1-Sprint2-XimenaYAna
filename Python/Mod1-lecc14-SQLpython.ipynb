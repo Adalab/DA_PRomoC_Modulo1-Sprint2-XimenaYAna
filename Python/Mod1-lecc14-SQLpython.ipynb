{
 "cells": [
  {
   "cell_type": "markdown",
   "metadata": {},
   "source": [
    "### Pair programming - Lecc 14 - Python-SQL 2 - 25/11/2022"
   ]
  },
  {
   "cell_type": "markdown",
   "metadata": {},
   "source": [
    "Objetivos\n",
    "\n",
    "📌 NOTA Cambiad el nombre de la BBDD a mi_primerita_BBDD_Python\n",
    "\n",
    "📌 NOTA Cuando creeis las distintas tablas de vuestra BBDD repetereis la mismas lineas de código una y otra \n",
    "vez. Para evitar esto, crearos una función que nos sirva para crear tablas independientemente del contenido de la tabla. La función recibirá como parámetros:\n",
    "\n",
    "- Contraseña de la conexión al servidor.\n",
    "- Query para crear la tabla."
   ]
  },
  {
   "cell_type": "code",
   "execution_count": 1,
   "metadata": {},
   "outputs": [
    {
     "name": "stdout",
     "output_type": "stream",
     "text": [
      "CMySQLCursor: CREATE DATABASE mi_primerita_BBDD_Python\n"
     ]
    }
   ],
   "source": [
    "# Creamos la base de datos donde realizar los ejercicios, si no existiera\n",
    "import mysql.connector\n",
    "\n",
    "cnx = mysql.connector.connect(user='root', password='AlumnaAdalab',\n",
    "                              host='127.0.0.1')\n",
    "\n",
    "\n",
    "mycursor = cnx.cursor()\n",
    "try:\n",
    "    mycursor.execute(\"CREATE DATABASE mi_primerita_BBDD_Python\")\n",
    "    print(mycursor)\n",
    "except mysql.connector.Error as err:\n",
    "    print(err)\n",
    "    print(\"Error Code:\", err.errno)\n",
    "    print(\"SQLSTATE\", err.sqlstate)\n",
    "    print(\"Message\", err.msg)\n"
   ]
  },
  {
   "cell_type": "markdown",
   "metadata": {},
   "source": [
    "📌 NOTA Cuando creeis las distintas tablas de vuestra BBDD repetereis la mismas lineas de código una y otra \n",
    "vez. Para evitar esto, crearos una función que nos sirva para crear tablas independientemente del contenido de la tabla. La función recibirá como parámetros:\n",
    "\n",
    "- Contraseña de la conexión al servidor.\n",
    "- Query para crear la tabla."
   ]
  },
  {
   "cell_type": "code",
   "execution_count": 37,
   "metadata": {},
   "outputs": [],
   "source": [
    "# Creamos una función que crea tablas, la cual aplicaremos para crear las cuatro tablas solicitadas\n",
    "def crear_tablas (query, password='AlumnaAdalab'):\n",
    "    \n",
    "    # Establecemos la conexión\n",
    "    import mysql.connector\n",
    "\n",
    "    cnx = mysql.connector.connect(user='root', password='AlumnaAdalab',\n",
    "                              host='127.0.0.1', database='mi_primerita_BBDD_Python')\n",
    "\n",
    "    mycursor= cnx.cursor()\n",
    "\n",
    "   # Ejecutamos la query\n",
    "    try:\n",
    "        mycursor.execute(query)\n",
    "        print (\"La tabla ya está creada\")\n",
    "        return mycursor\n",
    "        \n",
    "\n",
    "    except mysql.connector.Error as err:\n",
    "        print(err)\n",
    "        print(\"Error Code:\", err.errno)\n",
    "        print(\"SQLSTATE\", err.sqlstate)\n",
    "        print(\"Message\", err.msg)\n",
    "        "
   ]
  },
  {
   "cell_type": "code",
   "execution_count": 32,
   "metadata": {},
   "outputs": [],
   "source": [
    "# Creamos una variables con la query zapatillas\n",
    "\n",
    "query_zapatillas = \"\"\" CREATE TABLE Zapatillas (\n",
    "id_zapatilla INT AUTO_INCREMENT NOT NULL PRIMARY KEY,\n",
    "modelo VARCHAR (45) NOT NULL,\n",
    "color VARCHAR (45) NOT NULL,\n",
    "talla INT NOT NULL)\"\"\""
   ]
  },
  {
   "cell_type": "code",
   "execution_count": 34,
   "metadata": {},
   "outputs": [],
   "source": [
    "# Creamos una variables con la query clientes\n",
    "\n",
    "query_clientes = \"\"\"CREATE TABLE Clientes (\n",
    "id_cliente INT AUTO_INCREMENT NOT NULL PRIMARY KEY,\n",
    "nombre VARCHAR (45) NOT NULL ,\n",
    "numero_telefono INT (9) NOT NULL,\n",
    "email VARCHAR (45) NOT NULL, \n",
    "direccion VARCHAR (45) NOT NULL ,\n",
    "ciudad VARCHAR (45), \n",
    "provincia VARCHAR (45) NOT NULL,\n",
    "pais VARCHAR (45) NOT NULL,\n",
    "codigo_postal VARCHAR (45) NOT NULL )\"\"\""
   ]
  },
  {
   "cell_type": "code",
   "execution_count": 38,
   "metadata": {},
   "outputs": [],
   "source": [
    "# Creamos una variables con la query empleados\n",
    "\n",
    "query_empleados = \"\"\"CREATE TABLE Empleados (\n",
    "id_empleado INT AUTO_INCREMENT NOT NULL PRIMARY KEY,\n",
    "nombre VARCHAR (45) NOT NULL ,\n",
    "tienda VARCHAR (45) NOT NULL,\n",
    "salario INT NULL,\n",
    "fecha_incorporacion DATE  NOT NULL )\"\"\""
   ]
  },
  {
   "cell_type": "code",
   "execution_count": 40,
   "metadata": {},
   "outputs": [],
   "source": [
    "# Creamos una variables con la query facturas\n",
    "\n",
    "query_facturas = \"\"\"CREATE TABLE Facturas (\n",
    "      id_factura INT AUTO_INCREMENT NOT NULL,\n",
    "      numero_factura VARCHAR (45) NOT NULL ,\n",
    "      fecha DATE NOT NULL,\n",
    "      id_zapatilla INT NOT NULL,\n",
    "      id_empleado INT NOT NULL,\n",
    "      id_cliente INT NOT NULL,\n",
    "      \n",
    "        PRIMARY KEY (id_factura),\n",
    "        \n",
    "        CONSTRAINT fk_facturas_Zapatillas\n",
    "        foreign key (id_zapatilla)\n",
    "        REFERENCES Zapatillas (id_zapatilla),\n",
    "        CONSTRAINT fk_facturas_Empleado\n",
    "        foreign key (id_empleado)\n",
    "        REFERENCES Empleados (id_empleado),\n",
    "        CONSTRAINT fk_facturas_Clientes\n",
    "        foreign key (id_cliente)\n",
    "        REFERENCES Clientes (id_cliente)\n",
    " )\"\"\""
   ]
  },
  {
   "cell_type": "code",
   "execution_count": 41,
   "metadata": {},
   "outputs": [
    {
     "name": "stdout",
     "output_type": "stream",
     "text": [
      "La tabla ya está creada\n"
     ]
    },
    {
     "data": {
      "text/plain": [
       "<mysql.connector.cursor_cext.CMySQLCursor at 0x7f28f72fa700>"
      ]
     },
     "execution_count": 41,
     "metadata": {},
     "output_type": "execute_result"
    }
   ],
   "source": [
    "crear_tablas (query_facturas)"
   ]
  }
 ],
 "metadata": {
  "kernelspec": {
   "display_name": "Python 3.9.13 ('base')",
   "language": "python",
   "name": "python3"
  },
  "language_info": {
   "codemirror_mode": {
    "name": "ipython",
    "version": 3
   },
   "file_extension": ".py",
   "mimetype": "text/x-python",
   "name": "python",
   "nbconvert_exporter": "python",
   "pygments_lexer": "ipython3",
   "version": "3.9.13"
  },
  "orig_nbformat": 4,
  "vscode": {
   "interpreter": {
    "hash": "f2104d434ce3092b7c07d5af98c90652611c7ad655b2a72b59e9e675e449bc7b"
   }
  }
 },
 "nbformat": 4,
 "nbformat_minor": 2
}
