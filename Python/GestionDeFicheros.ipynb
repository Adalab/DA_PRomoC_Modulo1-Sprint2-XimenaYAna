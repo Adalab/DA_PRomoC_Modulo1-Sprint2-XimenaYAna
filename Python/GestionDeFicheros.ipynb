{
 "cells": [
  {
   "cell_type": "markdown",
   "metadata": {},
   "source": [
    "## Gestión de Ficheros"
   ]
  },
  {
   "cell_type": "markdown",
   "metadata": {},
   "source": [
    "Creación de carpetas y movimientos entre ellas\n",
    "\n",
    "---------------------------------- PRIMERA FUNCIÓN -----------------------\n",
    "\n",
    "Esta función debe incluir el código que:\n",
    "\n",
    "Nos muestre en que carpeta estamos trabajando.\n",
    "\n",
    "Cree una carpeta que se llame \"aprendiendo-ficheros\". ⚠️ Tened en cuenta que si la carpeta ya existe no la podemos crear, nos devolverá un error. Incluye en la función un programa que evite que nos de un error si la carpeta ya existe.\n",
    "Cree otra carpeta que se llame \"datos\" dentro de la carpeta \"aprendiendo-ficheros\". En esta carpeta \"datos\" guardaremos el fichero \"saludo.txt\" que os habéis descargado.\n",
    "\n",
    "Cambiad el directorio de trabajo a la carpeta \"datos\". Antes de seguir chequead que estáis trabajando en la carpeta \"datos\".\n",
    "\n",
    "Cambiad el nombre de la carpeta creada en el punto 2 a \"primera-toma-contacto\""
   ]
  },
  {
   "cell_type": "code",
   "execution_count": 78,
   "metadata": {},
   "outputs": [],
   "source": [
    "# En qué carpeta estamos trabajando\n",
    "\n",
    "def identificar_carpeta (nom1,nom2,nom3):\n",
    "    import os\n",
    "    ubi_carpeta = os.getcwd()\n",
    "    print (ubi_carpeta)\n",
    "    if \"aprendiendo-ficheros\" not in ubi_carpeta:\n",
    "        os.mkdir(\"aprendiendo-ficheros\")\n",
    "        print (\"Esta carpeta ya está creada\")\n",
    "        os.mkdir(\"aprendiendo-ficheros/datos\")\n",
    "        ubi_datos = ubi_carpeta + \"/\"+ \"aprendiendo-ficheros/datos\"\n",
    "        os.mkdir (\"aprendiendo-ficheros/datos/saludo.txt\")\n",
    "        ubi_saludos = ubi_datos + \"/\" + \"saludo.txt\"\n",
    "        os.rename(\"aprendiendo-ficheros\",\"primera-toma-contacto\")\n",
    "        return os.listdir(ubi_carpeta)\n",
    "   \n",
    "    elif \"aprendiendo-ficheros\" in ubi_carpeta: \n",
    "        return (\"La carpeta ya existe\")\n",
    "        "
   ]
  },
  {
   "cell_type": "code",
   "execution_count": 79,
   "metadata": {},
   "outputs": [
    {
     "name": "stdout",
     "output_type": "stream",
     "text": [
      "/mnt/d/Ximena/Adalab/Módulo 1/DA_PRomoC_Modulo1-Sprint2-XimenaYAna/Python\n",
      "Esta carpeta ya está creada\n"
     ]
    },
    {
     "data": {
      "text/plain": [
       "['.DS_Store',\n",
       " 'Clases.ipynb',\n",
       " 'FuncionesArgumentosP.ipynb',\n",
       " 'FuncionesIntro.ipynb',\n",
       " 'GestionDeFicheros.ipynb',\n",
       " 'primera-toma-contacto']"
      ]
     },
     "execution_count": 79,
     "metadata": {},
     "output_type": "execute_result"
    }
   ],
   "source": [
    "identificar_carpeta (\"aprendiendo-ficheros\",\"datos\", \"primera-toma-contacto\")"
   ]
  },
  {
   "cell_type": "code",
   "execution_count": 80,
   "metadata": {},
   "outputs": [],
   "source": [
    "from shutil import rmtree\n",
    "rmtree(\"primera-toma-contacto\")"
   ]
  }
 ],
 "metadata": {
  "kernelspec": {
   "display_name": "Python 3.9.13 ('base')",
   "language": "python",
   "name": "python3"
  },
  "language_info": {
   "codemirror_mode": {
    "name": "ipython",
    "version": 3
   },
   "file_extension": ".py",
   "mimetype": "text/x-python",
   "name": "python",
   "nbconvert_exporter": "python",
   "pygments_lexer": "ipython3",
   "version": "3.9.13"
  },
  "orig_nbformat": 4,
  "vscode": {
   "interpreter": {
    "hash": "f2104d434ce3092b7c07d5af98c90652611c7ad655b2a72b59e9e675e449bc7b"
   }
  }
 },
 "nbformat": 4,
 "nbformat_minor": 2
}
