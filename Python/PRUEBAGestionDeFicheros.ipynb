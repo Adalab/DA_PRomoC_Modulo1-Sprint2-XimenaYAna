{
 "cells": [
  {
   "cell_type": "markdown",
   "metadata": {},
   "source": [
    "## Gestión de Ficheros"
   ]
  },
  {
   "cell_type": "markdown",
   "metadata": {},
   "source": [
    "Creación de carpetas y movimientos entre ellas\n",
    "\n",
    "---------------------------------- PRIMERA FUNCIÓN -----------------------\n",
    "\n",
    "Esta función debe incluir el código que:\n",
    "\n",
    "Nos muestre en que carpeta estamos trabajando.\n",
    "\n",
    "Cree una carpeta que se llame \"aprendiendo-ficheros\". ⚠️ Tened en cuenta que si la carpeta ya existe no la podemos crear, nos devolverá un error. Incluye en la función un programa que evite que nos de un error si la carpeta ya existe.\n",
    "Cree otra carpeta que se llame \"datos\" dentro de la carpeta \"aprendiendo-ficheros\". En esta carpeta \"datos\" guardaremos el fichero \"saludo.txt\" que os habéis descargado.\n",
    "\n",
    "Cambiad el directorio de trabajo a la carpeta \"datos\". Antes de seguir chequead que estáis trabajando en la carpeta \"datos\".\n",
    "\n",
    "Cambiad el nombre de la carpeta creada en el punto 2 a \"primera-toma-contacto\""
   ]
  },
  {
   "cell_type": "code",
   "execution_count": 30,
   "metadata": {},
   "outputs": [],
   "source": [
    "import os"
   ]
  },
  {
   "cell_type": "code",
   "execution_count": 31,
   "metadata": {},
   "outputs": [],
   "source": [
    "# En qué carpeta estamos trabajando\n",
    "\n",
    "def crear_carpeta (nom1,nom2,nom3):\n",
    "    \n",
    "    ubicacion_carpeta = os.getcwd()\n",
    "    print(ubicacion_carpeta)\n",
    "    \n",
    "\n",
    "    if nom1 in os.listdir():\n",
    "        print(f\"Esta carpeta {nom1} ya existe\")\n",
    "        os.chdir(nom1)\n",
    "    else: \n",
    "        os.mkdir(nom1)\n",
    "        print(f\"Se ha creado la carpeta {nom1}\")\n",
    "        os.chdir(nom1)\n",
    "    \n",
    "    print(os.getcwd())\n",
    "\n",
    "    if nom2 in os.listdir():\n",
    "        print(f\"Esta carpeta {nom2} ya existe\")\n",
    "        os.chdir(nom2)\n",
    "    else:\n",
    "        os.mkdir(nom2)\n",
    "        print(f\"Acabas de crear la carpeta {nom2}\")\n",
    "        os.chdir(nom2)\n",
    "\n",
    "    print(os.getcwd())\n",
    "\n",
    "    os.chdir(\"../../\")\n",
    "\n",
    "    print(os.getcwd())\n",
    "\n",
    "    if nom3 in os.listdir():\n",
    "        print(f\"Esta carpeta {nom3} ya existe\")\n",
    "        pass\n",
    "    else:\n",
    "        os.rename(nom1, nom3)\n",
    "\n",
    "\n",
    "\n",
    "       # os.mkdir(\"aprendiendo-ficheros\")\n",
    "       # print (\"Esta carpeta ya está creada\")\n",
    "      #  os.mkdir(\"aprendiendo-ficheros/datos\")\n",
    "      #  ubi_datos = ubi_carpeta + \"/\"+ \"aprendiendo-ficheros/datos\"\n",
    "      #  os.mkdir (\"aprendiendo-ficheros/datos/saludo.txt\")\n",
    "       # ubi_saludos = ubi_datos + \"/\" + \"saludo.txt\"\n",
    "       # os.rename(\"aprendiendo-ficheros\",\"primera-toma-contacto\")\n",
    "      #  return os.listdir(ubi_carpeta)\n",
    "   \n",
    "  #  elif \"aprendiendo-ficheros\" in ubi_carpeta: \n",
    "    #    return (\"La carpeta ya existe\")\n",
    "    #    "
   ]
  },
  {
   "cell_type": "code",
   "execution_count": 33,
   "metadata": {},
   "outputs": [],
   "source": [
    "nom1= \"aprendiendo-ficheros\"\n",
    "nom2 = \"datos\"\n",
    "nom3 = \"primera-toma-contacto\""
   ]
  },
  {
   "cell_type": "code",
   "execution_count": 34,
   "metadata": {},
   "outputs": [
    {
     "ename": "PermissionError",
     "evalue": "[Errno 1] Operation not permitted",
     "output_type": "error",
     "traceback": [
      "\u001b[0;31m---------------------------------------------------------------------------\u001b[0m",
      "\u001b[0;31mPermissionError\u001b[0m                           Traceback (most recent call last)",
      "\u001b[0;32m/var/folders/lb/nyps7wf17_767t6ln21znwmh0000gn/T/ipykernel_7097/3298709626.py\u001b[0m in \u001b[0;36m<module>\u001b[0;34m\u001b[0m\n\u001b[0;32m----> 1\u001b[0;31m \u001b[0mcrear_carpeta\u001b[0m\u001b[0;34m(\u001b[0m\u001b[0mnom1\u001b[0m\u001b[0;34m,\u001b[0m\u001b[0mnom2\u001b[0m\u001b[0;34m,\u001b[0m\u001b[0mnom3\u001b[0m\u001b[0;34m)\u001b[0m\u001b[0;34m\u001b[0m\u001b[0;34m\u001b[0m\u001b[0m\n\u001b[0m",
      "\u001b[0;32m/var/folders/lb/nyps7wf17_767t6ln21znwmh0000gn/T/ipykernel_7097/16337591.py\u001b[0m in \u001b[0;36mcrear_carpeta\u001b[0;34m(nom1, nom2, nom3)\u001b[0m\n\u001b[1;32m      3\u001b[0m \u001b[0;32mdef\u001b[0m \u001b[0mcrear_carpeta\u001b[0m \u001b[0;34m(\u001b[0m\u001b[0mnom1\u001b[0m\u001b[0;34m,\u001b[0m\u001b[0mnom2\u001b[0m\u001b[0;34m,\u001b[0m\u001b[0mnom3\u001b[0m\u001b[0;34m)\u001b[0m\u001b[0;34m:\u001b[0m\u001b[0;34m\u001b[0m\u001b[0;34m\u001b[0m\u001b[0m\n\u001b[1;32m      4\u001b[0m \u001b[0;34m\u001b[0m\u001b[0m\n\u001b[0;32m----> 5\u001b[0;31m     \u001b[0mubicacion_carpeta\u001b[0m \u001b[0;34m=\u001b[0m \u001b[0mos\u001b[0m\u001b[0;34m.\u001b[0m\u001b[0mgetcwd\u001b[0m\u001b[0;34m(\u001b[0m\u001b[0;34m)\u001b[0m\u001b[0;34m\u001b[0m\u001b[0;34m\u001b[0m\u001b[0m\n\u001b[0m\u001b[1;32m      6\u001b[0m     \u001b[0mprint\u001b[0m\u001b[0;34m(\u001b[0m\u001b[0mubicacion_carpeta\u001b[0m\u001b[0;34m)\u001b[0m\u001b[0;34m\u001b[0m\u001b[0;34m\u001b[0m\u001b[0m\n\u001b[1;32m      7\u001b[0m \u001b[0;34m\u001b[0m\u001b[0m\n",
      "\u001b[0;31mPermissionError\u001b[0m: [Errno 1] Operation not permitted"
     ]
    }
   ],
   "source": [
    "crear_carpeta(nom1,nom2,nom3)"
   ]
  },
  {
   "cell_type": "code",
   "execution_count": 80,
   "metadata": {},
   "outputs": [],
   "source": [
    "from shutil import rmtree\n",
    "rmtree(\"primera-toma-contacto\")"
   ]
  },
  {
   "cell_type": "markdown",
   "metadata": {},
   "source": [
    "2. Segunda\n",
    "📌 Antes de empezar, recordad descargaros el fichero saludo.txt y guardarlo en el repo en el que estáis trabajando, dentro de una carpeta que se llame \"datos\".\n",
    "\n",
    "Lea el fichero que se llame \"saludo.txt y muestre su contenido completo.\n",
    "\n",
    "Muestra la línea 4 del fichero\n",
    "\n",
    "💡 Pistas para resolver este ejercicio 💡\n",
    "\n",
    "Antes de empezar, tendréis que saber cuál es vuestro directorio de trabajo.\n",
    "\n",
    "Tened en cuenta en que carpeta estáis. Si vuestro directorio de trabajo no es \"datos\" tendréis que cambiarlo o poner la ruta relativa a la carpeta \"datos\".\n",
    "\n",
    "Usar if... else para evitar que se nos pare el código.\n",
    "\n",
    "Para cambiar el fichero podréis usar el comando input para preguntar el usuario donde está el fichero y que se pueda usar la ruta relativa o absoluta."
   ]
  },
  {
   "cell_type": "code",
   "execution_count": 61,
   "metadata": {},
   "outputs": [],
   "source": [
    "def leer_archivo ():\n",
    "    import os\n",
    "    carpeta = os.getcwd()\n",
    "    archivo = carpeta+\"/datos/saludo.txt\"\n",
    "    if archivo == archivo:\n",
    "        f= open(archivo)\n",
    "        archivo_completo = f.readlines()\n",
    "        f.close()\n",
    "        print (archivo_completo)\n",
    "        if archivo == archivo:\n",
    "            x = open(archivo)\n",
    "            archivo_lineas = x.readlines()\n",
    "            x.close()\n",
    "            return archivo_lineas[4]\n",
    "    else:\n",
    "        return (\"No encuentro el archivo\")"
   ]
  },
  {
   "cell_type": "code",
   "execution_count": 62,
   "metadata": {},
   "outputs": [
    {
     "name": "stdout",
     "output_type": "stream",
     "text": [
      "['Hola Adalabers!!!\\n', '\\n', 'Estamos en la sesión de pair-programming para familiarizarnos con la gestión de carpetas y ficheros desde Python 🙂🌊\\n', '\\n', 'Esto esta siendo suuuper divertidooooo']\n"
     ]
    },
    {
     "data": {
      "text/plain": [
       "'Esto esta siendo suuuper divertidooooo'"
      ]
     },
     "execution_count": 62,
     "metadata": {},
     "output_type": "execute_result"
    }
   ],
   "source": [
    "leer_archivo ()"
   ]
  },
  {
   "cell_type": "markdown",
   "metadata": {},
   "source": [
    "# Lectura y escritura de ficheros\n",
    "\n",
    "La función debe recibir 4 parámetros:\n",
    "\n",
    "Nombre del fichero, incluyendo la extensión.\n",
    "\n",
    "Como queremos leer el fichero.\n",
    "\n",
    "El encoding del fichero.\n",
    "\n",
    "El contenido que queremos escribir en el fichero.\n",
    "\n",
    "Condiciones de la función:\n",
    "\n",
    "Si el fichero no existe, debe crearlo, insertar contenido y mostrar su contenido.\n",
    "\n",
    "Si el fichero existe pregunta al usuario si quiere sobreescribirlo. En caso de Si, sobreescribe el fichero, insertad contenido y leedlo. En caso de No, no hace nada.\n",
    "\n",
    "💡 Pistas 💡\n",
    "\n",
    "Para chequear si un fichero existe, podemos usar la función os.listdir() que devuelve una lista con los nombres de los ficheros que hay en un directorio.\n",
    "\n",
    "Para crear un fichero, podemos usar la función open() que recibe como parámetros el nombre del fichero, el modo de apertura y el encoding.\n",
    "\n",
    "Para chequear si el fichero existe debéis usar los for loops y el método in para comprobar si el nombre del fichero está en la lista de ficheros.\n",
    "\n",
    "Usar un input para preguntar al usuario si quiere sobreescribir el fichero.\n",
    "\n",
    "Para sobreescribir el fichero, podemos usar la función open() que recibe como parámetros el nombre del fichero, el modo de apertura y el encoding.\n",
    "\n",
    "Strings que cubren más que una línea tienen que ser iniciados y cerrados con tres comillas \"\"\"."
   ]
  }
 ],
 "metadata": {
  "kernelspec": {
   "display_name": "Python 3.6.9 64-bit",
   "language": "python",
   "name": "python3"
  },
  "language_info": {
   "codemirror_mode": {
    "name": "ipython",
    "version": 3
   },
   "file_extension": ".py",
   "mimetype": "text/x-python",
   "name": "python",
   "nbconvert_exporter": "python",
   "pygments_lexer": "ipython3",
   "version": "3.6.9"
  },
  "orig_nbformat": 4,
  "vscode": {
   "interpreter": {
    "hash": "31f2aee4e71d21fbe5cf8b01ff0e069b9275f58929596ceb00d14d90e3e16cd6"
   }
  }
 },
 "nbformat": 4,
 "nbformat_minor": 2
}
