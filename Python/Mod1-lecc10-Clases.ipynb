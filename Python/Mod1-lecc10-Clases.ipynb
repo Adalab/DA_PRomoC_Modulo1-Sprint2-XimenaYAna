{
 "cells": [
  {
   "cell_type": "markdown",
   "metadata": {},
   "source": [
    "Ejercicios de pair programming 18 noviembre. Clases"
   ]
  },
  {
   "cell_type": "markdown",
   "metadata": {},
   "source": [
    "-Definir una clase que se llame Empleados con los siguientes atributos:\n",
    "\n",
    "    nombre\n",
    "\n",
    "    apellido\n",
    "\n",
    "    edad\n",
    "\n",
    "    posición que ocupa en la empresa\n",
    "\n",
    "    año en que entró en la empresa\n",
    "\n",
    "    número de días de vacaciones que tiene\n",
    "    \n",
    "    Las herramientas que usa cada uno de ellos, por ejemplo, Outlook, excel y word. Deberá ser una lista."
   ]
  },
  {
   "cell_type": "code",
   "execution_count": 1,
   "metadata": {},
   "outputs": [],
   "source": [
    "#Creamos la clase:\n",
    "class Empleados :\n",
    "    def __init__(self, nombre, apellido, edad, posicion, año_entrada, num_vacaciones, lista_herramientas):\n",
    "        self.nombre = nombre\n",
    "        self.apellido = apellido\n",
    "        self.edad = edad\n",
    "        self.posicion = posicion\n",
    "        self.año_entrada = año_entrada\n",
    "        self.num_vacaciones = num_vacaciones\n",
    "        self.lista_herramientas = lista_herramientas\n",
    "\n",
    "#Definimos metodo descripcion       \n",
    "    def descripcion(self):\n",
    "        \n",
    "        return str(f\"El/ella, es {self.nombre} {self.apellido}, lleva con nosotros desde {self.año_entrada} en la empresa. Ademas este año le quedan {self.num_vacaciones} dias de vacaciones.\")\n",
    "\n",
    "\n",
    "#Definimos metodo calculo_vacaciones\n",
    "    def calculo_vacaciones(self):\n",
    "        \n",
    "        cuantos = int(input(\"cuantos dias de vacaciones te quieres coger\"))\n",
    "        if self.num_vacaciones - cuantos == 0 :\n",
    "            return \"Se acabaron las vacaciones\"\n",
    "        elif cuantos > self.num_vacaciones :\n",
    "            return \"No te puedes ir tantos dias de vacaciones\"\n",
    "        else: \n",
    "          return f\"Te quedan ({self.num_vacaciones} - {cuantos}) dias de vacaciones\"\n",
    "\n",
    "#Definimos metodo cambiando_posicion\n",
    "    def cambiando_posicion(self):\n",
    "        for herramientas in self.lista_herramientas:\n",
    "            if \"Python\" == herramientas.title():\n",
    "                return \"bien hecho!\"\n",
    "            if \"Excel\" == herramientas.title():\n",
    "                return \"Deja excel y empieza a usar Python\"\n"
   ]
  },
  {
   "cell_type": "code",
   "execution_count": 2,
   "metadata": {},
   "outputs": [],
   "source": [
    "#Creamos nuestro primer empleado\n",
    "empleado1 = Empleados ('Pepe', 'Lopez', 50, 'administrativo', 2000, 20, ['Office', 'python'])\n"
   ]
  },
  {
   "cell_type": "code",
   "execution_count": 3,
   "metadata": {},
   "outputs": [
    {
     "data": {
      "text/plain": [
       "{'nombre': 'Pepe',\n",
       " 'apellido': 'Lopez',\n",
       " 'edad': 50,\n",
       " 'posicion': 'administrativo',\n",
       " 'año_entrada': 2000,\n",
       " 'num_vacaciones': 20,\n",
       " 'lista_herramientas': ['Office', 'python']}"
      ]
     },
     "execution_count": 3,
     "metadata": {},
     "output_type": "execute_result"
    }
   ],
   "source": [
    "#Lo convertimos en diccionario\n",
    "empleado1.__dict__"
   ]
  },
  {
   "cell_type": "markdown",
   "metadata": {},
   "source": [
    "-Cread una instancia para la clase creada\n",
    "-Definid los siguientes métodos:  \n",
    "\n",
    "    descripción \n",
    "\n",
    "    calculo_vacaciones \n",
    "    \n",
    "    cambiando_posicion "
   ]
  },
  {
   "cell_type": "code",
   "execution_count": 4,
   "metadata": {},
   "outputs": [
    {
     "data": {
      "text/plain": [
       "'El/ella, es Pepe Lopez, lleva con nosotros desde 2000 en la empresa. Ademas este año le quedan 20 dias de vacaciones.'"
      ]
     },
     "execution_count": 4,
     "metadata": {},
     "output_type": "execute_result"
    }
   ],
   "source": [
    "empleado1.descripcion()"
   ]
  },
  {
   "cell_type": "code",
   "execution_count": 5,
   "metadata": {},
   "outputs": [
    {
     "data": {
      "text/plain": [
       "'No te puedes ir tantos dias de vacaciones'"
      ]
     },
     "execution_count": 5,
     "metadata": {},
     "output_type": "execute_result"
    }
   ],
   "source": [
    "empleado1.calculo_vacaciones()"
   ]
  },
  {
   "cell_type": "code",
   "execution_count": 6,
   "metadata": {},
   "outputs": [
    {
     "data": {
      "text/plain": [
       "'bien hecho!'"
      ]
     },
     "execution_count": 6,
     "metadata": {},
     "output_type": "execute_result"
    }
   ],
   "source": [
    "empleado1.cambiando_posicion()"
   ]
  }
 ],
 "metadata": {
  "kernelspec": {
   "display_name": "Python 3.9.7 ('base')",
   "language": "python",
   "name": "python3"
  },
  "language_info": {
   "codemirror_mode": {
    "name": "ipython",
    "version": 3
   },
   "file_extension": ".py",
   "mimetype": "text/x-python",
   "name": "python",
   "nbconvert_exporter": "python",
   "pygments_lexer": "ipython3",
   "version": "3.9.7"
  },
  "orig_nbformat": 4,
  "vscode": {
   "interpreter": {
    "hash": "3caf7024699363795119074055a58e45741f300ae36cbc0c7edc7c57844505fc"
   }
  }
 },
 "nbformat": 4,
 "nbformat_minor": 2
}
