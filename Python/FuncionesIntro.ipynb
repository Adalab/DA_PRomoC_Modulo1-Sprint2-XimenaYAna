{
 "cells": [
  {
   "cell_type": "markdown",
   "metadata": {},
   "source": [
    "## Notebook de ejercicios de pair programming dia 16 noviembre: Funciones intro"
   ]
  },
  {
   "cell_type": "markdown",
   "metadata": {},
   "source": [
    "Ejercicio 1: \n",
    "\n",
    "1. Cread una función que reciba 2 números enteros en forma de string como entrada, y dé como resultado la suma (también en forma de string)\n",
    "Condiciones:\n",
    "Si los dos parámetros que recibe la función son strings vacíos la función nos debe devolver \"0\"\n",
    "Si el primer parámetro es un string vacío, la función nos devuelve el valor del segundo parámetro y viceversa.\n",
    "Probad la función para las siguientes combinaciones de \"números\"\n",
    "\n",
    "\"4\",  \"5\" --> \"9\"\n",
    "\n",
    "\"34\", \"5\" --> \"39\"\n",
    "\n",
    "\"\", \"\" --> \"0\"\n",
    "\n",
    "\"2\", \"\" --> \"2\"\n",
    "\n",
    "\"-5\", \"3\" --> \"-2\"\n"
   ]
  },
  {
   "cell_type": "code",
   "execution_count": 53,
   "metadata": {},
   "outputs": [],
   "source": [
    "def sumar_str(a, b):\n",
    "    suma_s = 0\n",
    "    if a == (\"\") and b == (\"\"):\n",
    "        suma_s = 0\n",
    "        return str(suma_s)\n",
    "    elif a == (\"\"):\n",
    "        suma_s = b\n",
    "        return str(suma_s)\n",
    "    elif b == (\"\"):\n",
    "        suma_s = a\n",
    "        return str(suma_s)\n",
    "    elif type(a) == str and type(b) == str :\n",
    "        a = int(a) \n",
    "        b = int(b)\n",
    "        suma_s = a + b\n",
    "        return str(suma_s)\n",
    "    return str(suma_s)\n"
   ]
  },
  {
   "cell_type": "code",
   "execution_count": 54,
   "metadata": {},
   "outputs": [
    {
     "data": {
      "text/plain": [
       "'38'"
      ]
     },
     "execution_count": 54,
     "metadata": {},
     "output_type": "execute_result"
    }
   ],
   "source": [
    "sumar_str(\"35\", \"3\")"
   ]
  },
  {
   "cell_type": "markdown",
   "metadata": {},
   "source": [
    "2. El objetivo es comparar cada par de enteros de 2 listas, y devolver una nueva lista con el número mayor de la comapración..\n",
    "Probad la función para las siguientes listas: \n",
    "\n",
    "arr1 = [13, 64, 15, 17, 88]\n",
    "\n",
    "arr2 = [23, 14, 53, 17, 80]\n",
    "\n",
    "resultado = [23, 64, 53, 17, 88]\n",
    "\n",
    "💡 Pista 💡 En Python existe el método zip."
   ]
  },
  {
   "cell_type": "code",
   "execution_count": 35,
   "metadata": {},
   "outputs": [],
   "source": [
    "#Probad la función para las siguientes listas: \n",
    "\n",
    "arr1 = [13, 64, 15, 17, 88]\n",
    "arr2 = [23, 14, 53, 17, 80]\n",
    "# resultado = [23, 64, 53, 17, 88]"
   ]
  },
  {
   "cell_type": "code",
   "execution_count": 37,
   "metadata": {},
   "outputs": [],
   "source": [
    "arr1 = [13, 64, 15, 17, 88]\n",
    "arr2 = [23, 14, 53, 17, 80]\n",
    "\n",
    "def comparar_pares (lista1,lista2):\n",
    "    pares = list(zip(lista1,lista2))\n",
    "    enteros_mayores = []\n",
    "    for i in pares:\n",
    "        i = list(i)\n",
    "        maximo = max(list(i))\n",
    "        enteros_mayores.append(maximo)\n",
    "    return enteros_mayores\n"
   ]
  },
  {
   "cell_type": "code",
   "execution_count": 38,
   "metadata": {},
   "outputs": [
    {
     "data": {
      "text/plain": [
       "[23, 64, 53, 17, 88]"
      ]
     },
     "execution_count": 38,
     "metadata": {},
     "output_type": "execute_result"
    }
   ],
   "source": [
    "comparar_pares(arr1,arr2)"
   ]
  },
  {
   "cell_type": "markdown",
   "metadata": {},
   "source": [
    "3- El objetivo de este ejercicio es convertir un string en un nuevo string en el que cada carácter del nuevo string es \"(\" si ese carácter aparece sólo una vez en el string original, o \")\" si ese carácter aparece más de una vez en el string. Nuestro código no tiene que ser case sensitive, es decir, si hay una letra en mayúscula y en minúscula cuenta como dos apariciones."
   ]
  },
  {
   "cell_type": "code",
   "execution_count": 2,
   "metadata": {},
   "outputs": [],
   "source": [
    "palabra = \"recede\""
   ]
  },
  {
   "cell_type": "code",
   "execution_count": 3,
   "metadata": {},
   "outputs": [
    {
     "name": "stdout",
     "output_type": "stream",
     "text": [
      "1\n",
      "3\n",
      "1\n",
      "3\n",
      "1\n",
      "3\n"
     ]
    }
   ],
   "source": [
    "for i in list(palabra):\n",
    "    codigo = []\n",
    "    conteo = list(palabra).count(i)\n",
    "    print (conteo)\n",
    "    while len(codigo) != len(list(palabra)):\n",
    "        if conteo == 1:\n",
    "            codigo.append('o')\n",
    "        if conteo > 1:\n",
    "            codigo.append(\"a\")"
   ]
  },
  {
   "cell_type": "code",
   "execution_count": 4,
   "metadata": {},
   "outputs": [
    {
     "data": {
      "text/plain": [
       "['a', 'a', 'a', 'a', 'a', 'a']"
      ]
     },
     "execution_count": 4,
     "metadata": {},
     "output_type": "execute_result"
    }
   ],
   "source": [
    "codigo"
   ]
  },
  {
   "cell_type": "markdown",
   "metadata": {},
   "source": [
    "BONUS 4. A Pete le gusta hacer pasteles. Tiene algunas recetas e ingredientes. Desgraciadamente, no se le dan bien las matemáticas. ¿Puedes ayudarle a averiguar cuántas tartas puede hacer teniendo en cuenta sus recetas?"
   ]
  },
  {
   "cell_type": "code",
   "execution_count": 5,
   "metadata": {},
   "outputs": [],
   "source": [
    "receta = {'flour': 500, 'sugar': 200, 'eggs': 1}\n",
    "\n",
    "ingredientes = {'flour': 1200, 'sugar': 1200, 'eggs': 5, 'milk': 200}"
   ]
  },
  {
   "cell_type": "code",
   "execution_count": 6,
   "metadata": {},
   "outputs": [],
   "source": [
    "def calcular_receta (dic_receta,dic_ingredientes):\n",
    "    numero_bizcochos = []\n",
    "    for key in dic_receta:\n",
    "    # Compruebo si tengo o no los ingredientes de la receta en casa.\n",
    "        if key not in dic_ingredientes: # Si no tengo los ingredientes se para el bucle indicando que no se puede hacer la receta\n",
    "            return f\"No tenemos el ingrediente {key}, no podemos hacer la receta.\"\n",
    "        else: # Si tengo los ingredientes, debo calcular si tengo la cantidad requerida.\n",
    "            numero_bizcochos.append(dic_ingredientes[key] // dic_receta[key]) # Se crea una lista donde se incluyen los resultados de una división entera.\n",
    "            min(numero_bizcochos) #El resultado menor de las divisiones, será el número de bizcochos para los que tengo ingredientes.\n",
    "            return min(numero_bizcochos)"
   ]
  },
  {
   "cell_type": "code",
   "execution_count": 7,
   "metadata": {},
   "outputs": [
    {
     "data": {
      "text/plain": [
       "2"
      ]
     },
     "execution_count": 7,
     "metadata": {},
     "output_type": "execute_result"
    }
   ],
   "source": [
    "calcular_receta (receta, ingredientes)"
   ]
  },
  {
   "cell_type": "markdown",
   "metadata": {},
   "source": [
    "BONUS 5. Escribid una función que va a ser una calculadora. La lista recibirá dos parámetros, una lista de números y un string con la operación que queremos hacer (puede ser \"*\", \"+\")"
   ]
  },
  {
   "cell_type": "code",
   "execution_count": 8,
   "metadata": {},
   "outputs": [],
   "source": [
    "lista1 = [11, 6, 98, 1, 2] , \"*\"\n",
    "lista2 = [23,34, 56, 11, 90] , \"+\"\n",
    "lista3 = [23, 4,109 , 94, 77] , \"-\""
   ]
  },
  {
   "cell_type": "code",
   "execution_count": 9,
   "metadata": {},
   "outputs": [],
   "source": [
    "def calcularnumerosystring (list_listans):\n",
    "    result = 1\n",
    "    if list_listans [1]== \"*\" : # Identificamos el tipo de operación, indicada en el índice [1]\n",
    "        for num in list_listans[0]: # Aplicamos un bucle for para ir multiplicando los numero en una variable. \n",
    "            result= result*num # Se crea la variable result con valor 1, para que la primera multiplicación de como resultado el mismo número.\n",
    "        return result\n",
    "    elif list_listans [1]== \"+\" :\n",
    "        for num in list_listans[0]:\n",
    "            result= result+num\n",
    "        return result-1 # En el caso de la suma, se deberá restar 1 al resultado porque sta variable se creo con valor 1.\n",
    "    else: \n",
    "        return \"Lo siento, necesito que me pases una operación valida.\""
   ]
  },
  {
   "cell_type": "code",
   "execution_count": 10,
   "metadata": {},
   "outputs": [
    {
     "data": {
      "text/plain": [
       "12936"
      ]
     },
     "execution_count": 10,
     "metadata": {},
     "output_type": "execute_result"
    }
   ],
   "source": [
    "calcularnumerosystring (lista1)"
   ]
  }
 ],
 "metadata": {
  "kernelspec": {
   "display_name": "Python 3.9.13 ('base')",
   "language": "python",
   "name": "python3"
  },
  "language_info": {
   "codemirror_mode": {
    "name": "ipython",
    "version": 3
   },
   "file_extension": ".py",
   "mimetype": "text/x-python",
   "name": "python",
   "nbconvert_exporter": "python",
   "pygments_lexer": "ipython3",
   "version": "3.9.13"
  },
  "orig_nbformat": 4,
  "vscode": {
   "interpreter": {
    "hash": "f2104d434ce3092b7c07d5af98c90652611c7ad655b2a72b59e9e675e449bc7b"
   }
  }
 },
 "nbformat": 4,
 "nbformat_minor": 2
}
