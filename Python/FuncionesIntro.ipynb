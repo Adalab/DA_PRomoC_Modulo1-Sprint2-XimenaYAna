{
 "cells": [
  {
   "cell_type": "markdown",
   "metadata": {},
   "source": [
    "Notebook de ejercicios de pair programming dia 16 noviembre: Funciones intro"
   ]
  },
  {
   "cell_type": "markdown",
   "metadata": {},
   "source": [
    "Ejercicio 1: Cread una función que reciba 2 números enteros en forma de string como entrada, y dé como resultado la suma (también en forma de string)\n",
    "\n",
    "Condiciones:\n",
    "Si los dos parámetros que recibe la función son strings vacíos la función nos debe devolver \"0\"\n",
    "Si el primer parámetro es un string vacío, la función nos devuelve el valor del segundo parámetro y viceversa."
   ]
  },
  {
   "cell_type": "code",
   "execution_count": 53,
   "metadata": {},
   "outputs": [],
   "source": [
    "def sumar_str(a, b):\n",
    "    suma_s = 0\n",
    "    if a == (\"\") and b == (\"\"):\n",
    "        suma_s = 0\n",
    "        return str(suma_s)\n",
    "    elif a == (\"\"):\n",
    "        suma_s = b\n",
    "        return str(suma_s)\n",
    "    elif b == (\"\"):\n",
    "        suma_s = a\n",
    "        return str(suma_s)\n",
    "    elif type(a) == str and type(b) == str :\n",
    "        a = int(a) \n",
    "        b = int(b)\n",
    "        suma_s = a + b\n",
    "        return str(suma_s)\n",
    "    return str(suma_s)\n"
   ]
  },
  {
   "cell_type": "code",
   "execution_count": 54,
   "metadata": {},
   "outputs": [
    {
     "data": {
      "text/plain": [
       "'38'"
      ]
     },
     "execution_count": 54,
     "metadata": {},
     "output_type": "execute_result"
    }
   ],
   "source": [
    "sumar_str(\"35\", \"3\")"
   ]
  },
  {
   "cell_type": "markdown",
   "metadata": {},
   "source": [
    "2-El objetivo es comparar cada par de enteros de 2 listas, y devolver una nueva lista con el número mayor de la comapración.."
   ]
  },
  {
   "cell_type": "code",
   "execution_count": 35,
   "metadata": {},
   "outputs": [],
   "source": [
    "#Probad la función para las siguientes listas: \n",
    "\n",
    "arr1 = [13, 64, 15, 17, 88]\n",
    "arr2 = [23, 14, 53, 17, 80]\n",
    "# resultado = [23, 64, 53, 17, 88]"
   ]
  },
  {
   "cell_type": "code",
   "execution_count": 37,
   "metadata": {},
   "outputs": [],
   "source": [
    "arr1 = [13, 64, 15, 17, 88]\n",
    "arr2 = [23, 14, 53, 17, 80]\n",
    "\n",
    "def comparar_pares (lista1,lista2):\n",
    "    pares = list(zip(lista1,lista2))\n",
    "    enteros_mayores = []\n",
    "    for i in pares:\n",
    "        i = list(i)\n",
    "        maximo = max(list(i))\n",
    "        enteros_mayores.append(maximo)\n",
    "    return enteros_mayores\n"
   ]
  },
  {
   "cell_type": "code",
   "execution_count": 38,
   "metadata": {},
   "outputs": [
    {
     "data": {
      "text/plain": [
       "[23, 64, 53, 17, 88]"
      ]
     },
     "execution_count": 38,
     "metadata": {},
     "output_type": "execute_result"
    }
   ],
   "source": [
    "comparar_pares(arr1,arr2)"
   ]
  },
  {
   "cell_type": "markdown",
   "metadata": {},
   "source": [
    "3- El objetivo de este ejercicio es convertir un string en un nuevo string en el que cada carácter del nuevo string es \"(\" si ese carácter aparece sólo una vez en el string original, o \")\" si ese carácter aparece más de una vez en el string. Nuestro código no tiene que ser case sensitive, es decir, si hay una letra en mayúscula y en minúscula cuenta como dos apariciones."
   ]
  },
  {
   "cell_type": "code",
   "execution_count": null,
   "metadata": {},
   "outputs": [],
   "source": [
    "def parentesis (palabra) :\n",
    "    for i in palabra :\n",
    "        if i in palabra == i :\n",
    "            palabra.replace(i, \")\")"
   ]
  }
 ],
 "metadata": {
  "kernelspec": {
   "display_name": "Python 3.9.7 ('base')",
   "language": "python",
   "name": "python3"
  },
  "language_info": {
   "codemirror_mode": {
    "name": "ipython",
    "version": 3
   },
   "file_extension": ".py",
   "mimetype": "text/x-python",
   "name": "python",
   "nbconvert_exporter": "python",
   "pygments_lexer": "ipython3",
   "version": "3.9.7"
  },
  "orig_nbformat": 4,
  "vscode": {
   "interpreter": {
    "hash": "3caf7024699363795119074055a58e45741f300ae36cbc0c7edc7c57844505fc"
   }
  }
 },
 "nbformat": 4,
 "nbformat_minor": 2
}
